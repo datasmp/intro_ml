{
 "cells": [
  {
   "cell_type": "markdown",
   "metadata": {
    "id": "sRPJ-d7nBNxM"
   },
   "source": [
    "# Model Evaluation \n",
    "\n",
    "![](title_pict/model_evaluation2.png)"
   ]
  },
  {
   "cell_type": "markdown",
   "metadata": {
    "id": "xEGFDwAPBN1_"
   },
   "source": [
    "## Cross Validation"
   ]
  },
  {
   "cell_type": "markdown",
   "metadata": {
    "id": "6OcW4DxbBaMR"
   },
   "source": [
    "The data is repeatedly partitioned into distinct training and test sets, enabling the training of multiple models across these variations.\n",
    "\n",
    "- **Model-1:** The initial model is trained using the first fold as the test set, with the remaining folds comprising the training set.\n",
    "\n",
    "- **Model-2:** The subsequent model is trained using the second fold as the test set, while the remaining folds are utilized as the training set.\n",
    "\n",
    "- This process continues with folds 3, 4, and 5, each acting as the test set in succession.\n",
    "\n",
    "- For each of these five data partitions, accuracy is calculated to evaluate model performance.\n",
    "\n",
    "\n",
    "![](pict/cross_validation.jpeg)"
   ]
  },
  {
   "cell_type": "markdown",
   "metadata": {
    "id": "ipIgtgIgGZig"
   },
   "source": [
    "### CV on Breast Cancer Dataset"
   ]
  },
  {
   "cell_type": "code",
   "execution_count": 5,
   "metadata": {
    "id": "GLFHxfKCFW5M"
   },
   "outputs": [],
   "source": [
    "# import breast cancer data\n",
    "from sklearn.datasets import load_breast_cancer\n",
    "dataset_bc = load_breast_cancer()"
   ]
  },
  {
   "cell_type": "code",
   "execution_count": 6,
   "metadata": {
    "colab": {
     "base_uri": "https://localhost:8080/"
    },
    "id": "wOJZkTD0FZS0",
    "outputId": "34a0587f-1f29-4aaa-ccb0-2c94aea76915"
   },
   "outputs": [
    {
     "data": {
      "text/plain": [
       "((569, 30), (569,))"
      ]
     },
     "execution_count": 6,
     "metadata": {},
     "output_type": "execute_result"
    }
   ],
   "source": [
    "# X_bc, y_bc and shapes\n",
    "X_bc = dataset_bc.data\n",
    "y_bc = dataset_bc.target\n",
    "X_bc.shape, y_bc.shape"
   ]
  },
  {
   "cell_type": "code",
   "execution_count": 7,
   "metadata": {
    "id": "dNKhyPM5Fra5"
   },
   "outputs": [],
   "source": [
    "# training  and test sets\n",
    "from sklearn.model_selection import train_test_split\n",
    "X_bc_train, X_bc_test, y_bc_train, y_bc_test = train_test_split(X_bc, y_bc, random_state=42)"
   ]
  },
  {
   "cell_type": "code",
   "execution_count": 8,
   "metadata": {
    "id": "oUXorcfLFm8i"
   },
   "outputs": [],
   "source": [
    "# instantiate the class into an object\n",
    "from sklearn.ensemble import RandomForestClassifier\n",
    "rfc = RandomForestClassifier()"
   ]
  },
  {
   "cell_type": "code",
   "execution_count": 9,
   "metadata": {
    "colab": {
     "base_uri": "https://localhost:8080/"
    },
    "id": "EWZKkhA4FxH0",
    "outputId": "8f0f76a8-30ce-459a-f991-ef82a4926a1c"
   },
   "outputs": [
    {
     "data": {
      "text/html": [
       "<style>#sk-container-id-1 {color: black;background-color: white;}#sk-container-id-1 pre{padding: 0;}#sk-container-id-1 div.sk-toggleable {background-color: white;}#sk-container-id-1 label.sk-toggleable__label {cursor: pointer;display: block;width: 100%;margin-bottom: 0;padding: 0.3em;box-sizing: border-box;text-align: center;}#sk-container-id-1 label.sk-toggleable__label-arrow:before {content: \"▸\";float: left;margin-right: 0.25em;color: #696969;}#sk-container-id-1 label.sk-toggleable__label-arrow:hover:before {color: black;}#sk-container-id-1 div.sk-estimator:hover label.sk-toggleable__label-arrow:before {color: black;}#sk-container-id-1 div.sk-toggleable__content {max-height: 0;max-width: 0;overflow: hidden;text-align: left;background-color: #f0f8ff;}#sk-container-id-1 div.sk-toggleable__content pre {margin: 0.2em;color: black;border-radius: 0.25em;background-color: #f0f8ff;}#sk-container-id-1 input.sk-toggleable__control:checked~div.sk-toggleable__content {max-height: 200px;max-width: 100%;overflow: auto;}#sk-container-id-1 input.sk-toggleable__control:checked~label.sk-toggleable__label-arrow:before {content: \"▾\";}#sk-container-id-1 div.sk-estimator input.sk-toggleable__control:checked~label.sk-toggleable__label {background-color: #d4ebff;}#sk-container-id-1 div.sk-label input.sk-toggleable__control:checked~label.sk-toggleable__label {background-color: #d4ebff;}#sk-container-id-1 input.sk-hidden--visually {border: 0;clip: rect(1px 1px 1px 1px);clip: rect(1px, 1px, 1px, 1px);height: 1px;margin: -1px;overflow: hidden;padding: 0;position: absolute;width: 1px;}#sk-container-id-1 div.sk-estimator {font-family: monospace;background-color: #f0f8ff;border: 1px dotted black;border-radius: 0.25em;box-sizing: border-box;margin-bottom: 0.5em;}#sk-container-id-1 div.sk-estimator:hover {background-color: #d4ebff;}#sk-container-id-1 div.sk-parallel-item::after {content: \"\";width: 100%;border-bottom: 1px solid gray;flex-grow: 1;}#sk-container-id-1 div.sk-label:hover label.sk-toggleable__label {background-color: #d4ebff;}#sk-container-id-1 div.sk-serial::before {content: \"\";position: absolute;border-left: 1px solid gray;box-sizing: border-box;top: 0;bottom: 0;left: 50%;z-index: 0;}#sk-container-id-1 div.sk-serial {display: flex;flex-direction: column;align-items: center;background-color: white;padding-right: 0.2em;padding-left: 0.2em;position: relative;}#sk-container-id-1 div.sk-item {position: relative;z-index: 1;}#sk-container-id-1 div.sk-parallel {display: flex;align-items: stretch;justify-content: center;background-color: white;position: relative;}#sk-container-id-1 div.sk-item::before, #sk-container-id-1 div.sk-parallel-item::before {content: \"\";position: absolute;border-left: 1px solid gray;box-sizing: border-box;top: 0;bottom: 0;left: 50%;z-index: -1;}#sk-container-id-1 div.sk-parallel-item {display: flex;flex-direction: column;z-index: 1;position: relative;background-color: white;}#sk-container-id-1 div.sk-parallel-item:first-child::after {align-self: flex-end;width: 50%;}#sk-container-id-1 div.sk-parallel-item:last-child::after {align-self: flex-start;width: 50%;}#sk-container-id-1 div.sk-parallel-item:only-child::after {width: 0;}#sk-container-id-1 div.sk-dashed-wrapped {border: 1px dashed gray;margin: 0 0.4em 0.5em 0.4em;box-sizing: border-box;padding-bottom: 0.4em;background-color: white;}#sk-container-id-1 div.sk-label label {font-family: monospace;font-weight: bold;display: inline-block;line-height: 1.2em;}#sk-container-id-1 div.sk-label-container {text-align: center;}#sk-container-id-1 div.sk-container {/* jupyter's `normalize.less` sets `[hidden] { display: none; }` but bootstrap.min.css set `[hidden] { display: none !important; }` so we also need the `!important` here to be able to override the default hidden behavior on the sphinx rendered scikit-learn.org. See: https://github.com/scikit-learn/scikit-learn/issues/21755 */display: inline-block !important;position: relative;}#sk-container-id-1 div.sk-text-repr-fallback {display: none;}</style><div id=\"sk-container-id-1\" class=\"sk-top-container\"><div class=\"sk-text-repr-fallback\"><pre>RandomForestClassifier()</pre><b>In a Jupyter environment, please rerun this cell to show the HTML representation or trust the notebook. <br />On GitHub, the HTML representation is unable to render, please try loading this page with nbviewer.org.</b></div><div class=\"sk-container\" hidden><div class=\"sk-item\"><div class=\"sk-estimator sk-toggleable\"><input class=\"sk-toggleable__control sk-hidden--visually\" id=\"sk-estimator-id-1\" type=\"checkbox\" checked><label for=\"sk-estimator-id-1\" class=\"sk-toggleable__label sk-toggleable__label-arrow\">RandomForestClassifier</label><div class=\"sk-toggleable__content\"><pre>RandomForestClassifier()</pre></div></div></div></div></div>"
      ],
      "text/plain": [
       "RandomForestClassifier()"
      ]
     },
     "execution_count": 9,
     "metadata": {},
     "output_type": "execute_result"
    }
   ],
   "source": [
    "# fit the model\n",
    "rfc.fit(X_bc_train, y_bc_train)"
   ]
  },
  {
   "cell_type": "code",
   "execution_count": 10,
   "metadata": {
    "colab": {
     "base_uri": "https://localhost:8080/"
    },
    "id": "h1hlodX4FxLE",
    "outputId": "cb15a8ef-1cce-47e5-f60f-3ee9d62178fd"
   },
   "outputs": [
    {
     "data": {
      "text/plain": [
       "(1.0, 0.972027972027972)"
      ]
     },
     "execution_count": 10,
     "metadata": {},
     "output_type": "execute_result"
    }
   ],
   "source": [
    "# train test scores\n",
    "rfc.score(X_bc_train, y_bc_train), rfc.score(X_bc_test, y_bc_test)"
   ]
  },
  {
   "cell_type": "code",
   "execution_count": 11,
   "metadata": {
    "colab": {
     "base_uri": "https://localhost:8080/"
    },
    "id": "pGlRpShbFxOD",
    "outputId": "cf63b4c4-3791-41ca-bcd6-ff846f2b3e96"
   },
   "outputs": [
    {
     "data": {
      "text/plain": [
       "array([0.92982456, 0.94736842, 0.99122807, 0.97368421, 0.98230088])"
      ]
     },
     "execution_count": 11,
     "metadata": {},
     "output_type": "execute_result"
    }
   ],
   "source": [
    "# cross validation\n",
    "from sklearn.model_selection import cross_val_score\n",
    "cross_val_score(rfc, X_bc, y_bc, cv = 5)"
   ]
  },
  {
   "cell_type": "code",
   "execution_count": 12,
   "metadata": {
    "colab": {
     "base_uri": "https://localhost:8080/"
    },
    "id": "_nN2VpvnHEOX",
    "outputId": "56a2d656-1ac4-4ef0-9646-46e61b0072aa"
   },
   "outputs": [
    {
     "data": {
      "text/plain": [
       "0.9613569321533924"
      ]
     },
     "execution_count": 12,
     "metadata": {},
     "output_type": "execute_result"
    }
   ],
   "source": [
    "cross_val_score(rfc, X_bc, y_bc, cv = 5).mean()"
   ]
  },
  {
   "cell_type": "markdown",
   "metadata": {
    "id": "zu15b0VYHT3Q"
   },
   "source": [
    "### CV on Iris Data"
   ]
  },
  {
   "cell_type": "code",
   "execution_count": 13,
   "metadata": {
    "id": "dOiFKT8sHT3y"
   },
   "outputs": [],
   "source": [
    "# importiris data\n",
    "from sklearn.datasets import load_iris\n",
    "dataset_iris = load_iris()"
   ]
  },
  {
   "cell_type": "code",
   "execution_count": 14,
   "metadata": {
    "colab": {
     "base_uri": "https://localhost:8080/"
    },
    "id": "cIorsnJwHT3z",
    "outputId": "1b7a192f-84e1-46b5-d328-0a8c2517fde3"
   },
   "outputs": [
    {
     "data": {
      "text/plain": [
       "((150, 4), (150,))"
      ]
     },
     "execution_count": 14,
     "metadata": {},
     "output_type": "execute_result"
    }
   ],
   "source": [
    "# X_iris, y_iris and shapes\n",
    "X_iris = dataset_iris.data\n",
    "y_iris = dataset_iris.target\n",
    "X_iris.shape, y_iris.shape"
   ]
  },
  {
   "cell_type": "code",
   "execution_count": 15,
   "metadata": {
    "id": "1KH8_n6AHT30"
   },
   "outputs": [],
   "source": [
    "# training  and test sets\n",
    "from sklearn.model_selection import train_test_split\n",
    "X_iris_train, X_iris_test, y_iris_train, y_iris_test = train_test_split(X_iris, y_iris, random_state=42)"
   ]
  },
  {
   "cell_type": "code",
   "execution_count": 16,
   "metadata": {
    "id": "Dx8NphcJHT30"
   },
   "outputs": [],
   "source": [
    "# instantiate the class into an object\n",
    "from sklearn.ensemble import RandomForestClassifier\n",
    "rfc = RandomForestClassifier()"
   ]
  },
  {
   "cell_type": "code",
   "execution_count": 17,
   "metadata": {
    "colab": {
     "base_uri": "https://localhost:8080/"
    },
    "id": "hjAhLpUwHT31",
    "outputId": "e20865c8-10a3-4972-f4e4-69ffc2ccd9e4"
   },
   "outputs": [
    {
     "data": {
      "text/html": [
       "<style>#sk-container-id-2 {color: black;background-color: white;}#sk-container-id-2 pre{padding: 0;}#sk-container-id-2 div.sk-toggleable {background-color: white;}#sk-container-id-2 label.sk-toggleable__label {cursor: pointer;display: block;width: 100%;margin-bottom: 0;padding: 0.3em;box-sizing: border-box;text-align: center;}#sk-container-id-2 label.sk-toggleable__label-arrow:before {content: \"▸\";float: left;margin-right: 0.25em;color: #696969;}#sk-container-id-2 label.sk-toggleable__label-arrow:hover:before {color: black;}#sk-container-id-2 div.sk-estimator:hover label.sk-toggleable__label-arrow:before {color: black;}#sk-container-id-2 div.sk-toggleable__content {max-height: 0;max-width: 0;overflow: hidden;text-align: left;background-color: #f0f8ff;}#sk-container-id-2 div.sk-toggleable__content pre {margin: 0.2em;color: black;border-radius: 0.25em;background-color: #f0f8ff;}#sk-container-id-2 input.sk-toggleable__control:checked~div.sk-toggleable__content {max-height: 200px;max-width: 100%;overflow: auto;}#sk-container-id-2 input.sk-toggleable__control:checked~label.sk-toggleable__label-arrow:before {content: \"▾\";}#sk-container-id-2 div.sk-estimator input.sk-toggleable__control:checked~label.sk-toggleable__label {background-color: #d4ebff;}#sk-container-id-2 div.sk-label input.sk-toggleable__control:checked~label.sk-toggleable__label {background-color: #d4ebff;}#sk-container-id-2 input.sk-hidden--visually {border: 0;clip: rect(1px 1px 1px 1px);clip: rect(1px, 1px, 1px, 1px);height: 1px;margin: -1px;overflow: hidden;padding: 0;position: absolute;width: 1px;}#sk-container-id-2 div.sk-estimator {font-family: monospace;background-color: #f0f8ff;border: 1px dotted black;border-radius: 0.25em;box-sizing: border-box;margin-bottom: 0.5em;}#sk-container-id-2 div.sk-estimator:hover {background-color: #d4ebff;}#sk-container-id-2 div.sk-parallel-item::after {content: \"\";width: 100%;border-bottom: 1px solid gray;flex-grow: 1;}#sk-container-id-2 div.sk-label:hover label.sk-toggleable__label {background-color: #d4ebff;}#sk-container-id-2 div.sk-serial::before {content: \"\";position: absolute;border-left: 1px solid gray;box-sizing: border-box;top: 0;bottom: 0;left: 50%;z-index: 0;}#sk-container-id-2 div.sk-serial {display: flex;flex-direction: column;align-items: center;background-color: white;padding-right: 0.2em;padding-left: 0.2em;position: relative;}#sk-container-id-2 div.sk-item {position: relative;z-index: 1;}#sk-container-id-2 div.sk-parallel {display: flex;align-items: stretch;justify-content: center;background-color: white;position: relative;}#sk-container-id-2 div.sk-item::before, #sk-container-id-2 div.sk-parallel-item::before {content: \"\";position: absolute;border-left: 1px solid gray;box-sizing: border-box;top: 0;bottom: 0;left: 50%;z-index: -1;}#sk-container-id-2 div.sk-parallel-item {display: flex;flex-direction: column;z-index: 1;position: relative;background-color: white;}#sk-container-id-2 div.sk-parallel-item:first-child::after {align-self: flex-end;width: 50%;}#sk-container-id-2 div.sk-parallel-item:last-child::after {align-self: flex-start;width: 50%;}#sk-container-id-2 div.sk-parallel-item:only-child::after {width: 0;}#sk-container-id-2 div.sk-dashed-wrapped {border: 1px dashed gray;margin: 0 0.4em 0.5em 0.4em;box-sizing: border-box;padding-bottom: 0.4em;background-color: white;}#sk-container-id-2 div.sk-label label {font-family: monospace;font-weight: bold;display: inline-block;line-height: 1.2em;}#sk-container-id-2 div.sk-label-container {text-align: center;}#sk-container-id-2 div.sk-container {/* jupyter's `normalize.less` sets `[hidden] { display: none; }` but bootstrap.min.css set `[hidden] { display: none !important; }` so we also need the `!important` here to be able to override the default hidden behavior on the sphinx rendered scikit-learn.org. See: https://github.com/scikit-learn/scikit-learn/issues/21755 */display: inline-block !important;position: relative;}#sk-container-id-2 div.sk-text-repr-fallback {display: none;}</style><div id=\"sk-container-id-2\" class=\"sk-top-container\"><div class=\"sk-text-repr-fallback\"><pre>RandomForestClassifier()</pre><b>In a Jupyter environment, please rerun this cell to show the HTML representation or trust the notebook. <br />On GitHub, the HTML representation is unable to render, please try loading this page with nbviewer.org.</b></div><div class=\"sk-container\" hidden><div class=\"sk-item\"><div class=\"sk-estimator sk-toggleable\"><input class=\"sk-toggleable__control sk-hidden--visually\" id=\"sk-estimator-id-2\" type=\"checkbox\" checked><label for=\"sk-estimator-id-2\" class=\"sk-toggleable__label sk-toggleable__label-arrow\">RandomForestClassifier</label><div class=\"sk-toggleable__content\"><pre>RandomForestClassifier()</pre></div></div></div></div></div>"
      ],
      "text/plain": [
       "RandomForestClassifier()"
      ]
     },
     "execution_count": 17,
     "metadata": {},
     "output_type": "execute_result"
    }
   ],
   "source": [
    "# fit the model\n",
    "rfc.fit(X_iris_train, y_iris_train)"
   ]
  },
  {
   "cell_type": "code",
   "execution_count": 18,
   "metadata": {
    "colab": {
     "base_uri": "https://localhost:8080/"
    },
    "id": "yhkbaJT9HT31",
    "outputId": "61116a8c-7781-44a8-9fa3-b924adccdf45"
   },
   "outputs": [
    {
     "data": {
      "text/plain": [
       "(1.0, 1.0)"
      ]
     },
     "execution_count": 18,
     "metadata": {},
     "output_type": "execute_result"
    }
   ],
   "source": [
    "# train test scores\n",
    "rfc.score(X_iris_train, y_iris_train), rfc.score(X_iris_test, y_iris_test)"
   ]
  },
  {
   "cell_type": "code",
   "execution_count": 19,
   "metadata": {
    "colab": {
     "base_uri": "https://localhost:8080/"
    },
    "id": "veepFm9IHT32",
    "outputId": "b3dbbb9e-3a01-467f-b509-b9dc4847fb56"
   },
   "outputs": [
    {
     "data": {
      "text/plain": [
       "array([0.96666667, 0.96666667, 0.93333333, 0.9       , 1.        ])"
      ]
     },
     "execution_count": 19,
     "metadata": {},
     "output_type": "execute_result"
    }
   ],
   "source": [
    "# cross validation\n",
    "from sklearn.model_selection import cross_val_score\n",
    "cross_val_score(rfc, X_iris, y_iris, cv = 5)"
   ]
  },
  {
   "cell_type": "code",
   "execution_count": 20,
   "metadata": {
    "colab": {
     "base_uri": "https://localhost:8080/"
    },
    "id": "_mxg26bKHT32",
    "outputId": "845021c5-2a49-4020-8606-20a8c5334535"
   },
   "outputs": [
    {
     "data": {
      "text/plain": [
       "0.96"
      ]
     },
     "execution_count": 20,
     "metadata": {},
     "output_type": "execute_result"
    }
   ],
   "source": [
    "cross_val_score(rfc, X_iris, y_iris, cv = 5).mean()"
   ]
  },
  {
   "cell_type": "markdown",
   "metadata": {
    "id": "N90bTq7MdJNZ"
   },
   "source": [
    "## Validation Set\n",
    "- The test set should not be used for parameter selection, as this could lead to overfitting.\n",
    "- The accuracy obtained from the test set might not generalize well to new, unseen data.\n",
    "- A common solution is to split the data into three distinct subsets:\n",
    "  1. **Training Set**: Used to train the model.\n",
    "  2. **Validation Set**: Used to tune model parameters and select the best model.\n",
    "  3. **Test Set**: Used for the final evaluation of model performance on unseen data. \n",
    "![](pict/validation.jpeg)"
   ]
  },
  {
   "cell_type": "markdown",
   "metadata": {},
   "source": [
    "### Validation Set for Housing Data"
   ]
  },
  {
   "cell_type": "code",
   "execution_count": 21,
   "metadata": {},
   "outputs": [
    {
     "data": {
      "text/plain": [
       "((11610, 8), (3870, 8), (5160, 8))"
      ]
     },
     "execution_count": 21,
     "metadata": {},
     "output_type": "execute_result"
    }
   ],
   "source": [
    "from sklearn.datasets import fetch_california_housing\n",
    "Xh, yh = fetch_california_housing(return_X_y=True)\n",
    "\n",
    "Xh_train_valid, Xh_test, yh_train_valid, yh_test = train_test_split(Xh, yh, random_state=0)\n",
    "\n",
    "Xh_train, Xh_valid, yh_train, yh_valid = train_test_split(Xh_train_valid, yh_train_valid, random_state=0)\n",
    "\n",
    "Xh_train.shape, Xh_valid.shape, Xh_test.shape"
   ]
  },
  {
   "cell_type": "code",
   "execution_count": 23,
   "metadata": {},
   "outputs": [],
   "source": [
    "from xgboost import XGBRegressor"
   ]
  },
  {
   "cell_type": "code",
   "execution_count": 29,
   "metadata": {},
   "outputs": [
    {
     "name": "stdout",
     "output_type": "stream",
     "text": [
      "max_depth = 1  --->  Validation Score = 0.70\n",
      "max_depth = 2  --->  Validation Score = 0.78\n",
      "max_depth = 3  --->  Validation Score = 0.80\n",
      "max_depth = 4  --->  Validation Score = 0.81\n",
      "max_depth = 5  --->  Validation Score = 0.81\n"
     ]
    }
   ],
   "source": [
    "for md in [1,2,3,4,5]:\n",
    "    xgb = XGBRegressor(max_depth=md)\n",
    "    xgb.fit(Xh_train, yh_train)\n",
    "    print(f'max_depth = {md}  --->  Validation Score = {xgb.score(Xh_valid, yh_valid):.2f}')"
   ]
  },
  {
   "cell_type": "code",
   "execution_count": 30,
   "metadata": {},
   "outputs": [
    {
     "data": {
      "text/plain": [
       "(0.8812581464722442, 0.8328913896385808)"
      ]
     },
     "execution_count": 30,
     "metadata": {},
     "output_type": "execute_result"
    }
   ],
   "source": [
    "xgb = XGBRegressor(max_depth=4)\n",
    "xgb.fit(Xh_train_valid, yh_train_valid)\n",
    "xgb.score(Xh_train_valid, yh_train_valid), xgb.score(Xh_test, yh_test)"
   ]
  },
  {
   "cell_type": "markdown",
   "metadata": {
    "id": "_3GYRIq9BN5h"
   },
   "source": [
    "## Grid Search\n",
    "- Grid Search is a technique for tuning a model's parameters.\n",
    "- It exhaustively evaluates all possible combinations of specified parameters to identify the best set for optimal performance.\n",
    "![](pict/grid_search.jpeg)"
   ]
  },
  {
   "cell_type": "markdown",
   "metadata": {
    "id": "CnJNcqAyBaTA"
   },
   "source": [
    "### GS on Breast Cancer Data"
   ]
  },
  {
   "cell_type": "code",
   "execution_count": null,
   "metadata": {
    "id": "cVKkvjv5BHMP"
   },
   "outputs": [],
   "source": [
    "# import GridSearchCV\n",
    "from sklearn.model_selection import GridSearchCV"
   ]
  },
  {
   "cell_type": "code",
   "execution_count": null,
   "metadata": {
    "id": "PDLTITCHL-PO"
   },
   "outputs": [],
   "source": [
    "# parameters\n",
    "param_grid = {'max_depth': [3,5,7],'n_estimators': [5,10,20,30]}"
   ]
  },
  {
   "cell_type": "code",
   "execution_count": null,
   "metadata": {
    "id": "mVL5E9J9L_Wt"
   },
   "outputs": [],
   "source": [
    "# instantiate the GridSearchCV class with the model rfc,\n",
    "#the parameter grid to search (param_grid), and the cross-validation strategy\n",
    "grid_search = GridSearchCV(rfc, param_grid, cv=5)"
   ]
  },
  {
   "cell_type": "code",
   "execution_count": null,
   "metadata": {
    "colab": {
     "base_uri": "https://localhost:8080/"
    },
    "id": "82a0VsAcLEKX",
    "outputId": "fa5eb4b1-b0af-4ee2-b478-c3c77c98f556"
   },
   "outputs": [
    {
     "data": {
      "text/plain": [
       "GridSearchCV(cv=5, error_score=nan,\n",
       "             estimator=RandomForestClassifier(bootstrap=True, ccp_alpha=0.0,\n",
       "                                              class_weight=None,\n",
       "                                              criterion='gini', max_depth=None,\n",
       "                                              max_features='auto',\n",
       "                                              max_leaf_nodes=None,\n",
       "                                              max_samples=None,\n",
       "                                              min_impurity_decrease=0.0,\n",
       "                                              min_impurity_split=None,\n",
       "                                              min_samples_leaf=1,\n",
       "                                              min_samples_split=2,\n",
       "                                              min_weight_fraction_leaf=0.0,\n",
       "                                              n_estimators=100, n_jobs=None,\n",
       "                                              oob_score=False,\n",
       "                                              random_state=None, verbose=0,\n",
       "                                              warm_start=False),\n",
       "             iid='deprecated', n_jobs=None,\n",
       "             param_grid={'max_depth': [3, 5, 7],\n",
       "                         'n_estimators': [5, 10, 20, 30]},\n",
       "             pre_dispatch='2*n_jobs', refit=True, return_train_score=False,\n",
       "             scoring=None, verbose=0)"
      ]
     },
     "execution_count": 59,
     "metadata": {
      "tags": []
     },
     "output_type": "execute_result"
    }
   ],
   "source": [
    "# fit\n",
    "grid_search.fit(X_bc_train, y_bc_train)"
   ]
  },
  {
   "cell_type": "code",
   "execution_count": null,
   "metadata": {
    "colab": {
     "base_uri": "https://localhost:8080/"
    },
    "id": "Xsl_5MWTLTLf",
    "outputId": "d2e943e2-ff41-46e6-9b63-75dbedfc56ab"
   },
   "outputs": [
    {
     "data": {
      "text/plain": [
       "{'max_depth': 5, 'n_estimators': 30}"
      ]
     },
     "execution_count": 60,
     "metadata": {
      "tags": []
     },
     "output_type": "execute_result"
    }
   ],
   "source": [
    "# best_params\n",
    "grid_search.best_params_"
   ]
  },
  {
   "cell_type": "code",
   "execution_count": null,
   "metadata": {
    "colab": {
     "base_uri": "https://localhost:8080/"
    },
    "id": "d3nEw5eJLW3n",
    "outputId": "13c6ea68-a5a7-43ee-8e0a-0e9cee4bddd2"
   },
   "outputs": [
    {
     "data": {
      "text/plain": [
       "0.9671682626538989"
      ]
     },
     "execution_count": 61,
     "metadata": {
      "tags": []
     },
     "output_type": "execute_result"
    }
   ],
   "source": [
    "# best scores\n",
    "grid_search.best_score_"
   ]
  },
  {
   "cell_type": "code",
   "execution_count": null,
   "metadata": {
    "colab": {
     "base_uri": "https://localhost:8080/"
    },
    "id": "bw4DWwIRLYuY",
    "outputId": "2953f525-9a4c-4a76-cdad-e958da01891c"
   },
   "outputs": [
    {
     "data": {
      "text/plain": [
       "0.9929577464788732"
      ]
     },
     "execution_count": 62,
     "metadata": {
      "tags": []
     },
     "output_type": "execute_result"
    }
   ],
   "source": [
    "# training score\n",
    "grid_search.score(X_bc_train, y_bc_train)"
   ]
  },
  {
   "cell_type": "code",
   "execution_count": null,
   "metadata": {
    "colab": {
     "base_uri": "https://localhost:8080/"
    },
    "id": "KCPzivOjLedp",
    "outputId": "6fd9384b-3ce6-4bcc-e878-d4a78b329797"
   },
   "outputs": [
    {
     "data": {
      "text/plain": [
       "0.972027972027972"
      ]
     },
     "execution_count": 63,
     "metadata": {
      "tags": []
     },
     "output_type": "execute_result"
    }
   ],
   "source": [
    "# test score\n",
    "grid_search.score(X_bc_test, y_bc_test)"
   ]
  },
  {
   "cell_type": "code",
   "execution_count": null,
   "metadata": {
    "colab": {
     "base_uri": "https://localhost:8080/"
    },
    "id": "oTXGrFxELh5N",
    "outputId": "2e13e1e9-d512-407b-fdc3-d387d5ede7b4"
   },
   "outputs": [
    {
     "data": {
      "text/plain": [
       "RandomForestClassifier(bootstrap=True, ccp_alpha=0.0, class_weight=None,\n",
       "                       criterion='gini', max_depth=5, max_features='auto',\n",
       "                       max_leaf_nodes=None, max_samples=None,\n",
       "                       min_impurity_decrease=0.0, min_impurity_split=None,\n",
       "                       min_samples_leaf=1, min_samples_split=2,\n",
       "                       min_weight_fraction_leaf=0.0, n_estimators=30,\n",
       "                       n_jobs=None, oob_score=False, random_state=None,\n",
       "                       verbose=0, warm_start=False)"
      ]
     },
     "execution_count": 65,
     "metadata": {
      "tags": []
     },
     "output_type": "execute_result"
    }
   ],
   "source": [
    "# best estimator\n",
    "grid_search.best_estimator_"
   ]
  },
  {
   "cell_type": "code",
   "execution_count": null,
   "metadata": {
    "colab": {
     "base_uri": "https://localhost:8080/"
    },
    "id": "YrgRWjUaLm2E",
    "outputId": "49b95eb3-af7a-40f2-89f6-a7522f8ffa09"
   },
   "outputs": [
    {
     "data": {
      "text/plain": [
       "{'mean_fit_time': array([0.01080871, 0.0189641 , 0.03779688, 0.05854774, 0.01062713,\n",
       "        0.01977334, 0.03763075, 0.05930386, 0.01048241, 0.01990156,\n",
       "        0.0400435 , 0.06557817]),\n",
       " 'mean_score_time': array([0.00128298, 0.00221763, 0.0035193 , 0.00469403, 0.00154815,\n",
       "        0.00189924, 0.00312457, 0.00444589, 0.00128708, 0.00187745,\n",
       "        0.00295291, 0.00419545]),\n",
       " 'mean_test_score': array([0.93655267, 0.94128591, 0.93428181, 0.94363885, 0.94369357,\n",
       "        0.93425445, 0.94837209, 0.96716826, 0.93660739, 0.95072503,\n",
       "        0.95305062, 0.96005472]),\n",
       " 'param_max_depth': masked_array(data=[3, 3, 3, 3, 5, 5, 5, 5, 7, 7, 7, 7],\n",
       "              mask=[False, False, False, False, False, False, False, False,\n",
       "                    False, False, False, False],\n",
       "        fill_value='?',\n",
       "             dtype=object),\n",
       " 'param_n_estimators': masked_array(data=[5, 10, 20, 30, 5, 10, 20, 30, 5, 10, 20, 30],\n",
       "              mask=[False, False, False, False, False, False, False, False,\n",
       "                    False, False, False, False],\n",
       "        fill_value='?',\n",
       "             dtype=object),\n",
       " 'params': [{'max_depth': 3, 'n_estimators': 5},\n",
       "  {'max_depth': 3, 'n_estimators': 10},\n",
       "  {'max_depth': 3, 'n_estimators': 20},\n",
       "  {'max_depth': 3, 'n_estimators': 30},\n",
       "  {'max_depth': 5, 'n_estimators': 5},\n",
       "  {'max_depth': 5, 'n_estimators': 10},\n",
       "  {'max_depth': 5, 'n_estimators': 20},\n",
       "  {'max_depth': 5, 'n_estimators': 30},\n",
       "  {'max_depth': 7, 'n_estimators': 5},\n",
       "  {'max_depth': 7, 'n_estimators': 10},\n",
       "  {'max_depth': 7, 'n_estimators': 20},\n",
       "  {'max_depth': 7, 'n_estimators': 30}],\n",
       " 'rank_test_score': array([10,  8, 11,  7,  6, 12,  5,  1,  9,  4,  3,  2], dtype=int32),\n",
       " 'split0_test_score': array([0.96511628, 0.95348837, 0.93023256, 0.95348837, 0.93023256,\n",
       "        0.94186047, 0.94186047, 0.95348837, 0.94186047, 0.94186047,\n",
       "        0.95348837, 0.97674419]),\n",
       " 'split1_test_score': array([0.90588235, 0.92941176, 0.94117647, 0.92941176, 0.94117647,\n",
       "        0.90588235, 0.95294118, 0.95294118, 0.89411765, 0.95294118,\n",
       "        0.94117647, 0.92941176]),\n",
       " 'split2_test_score': array([0.96470588, 0.95294118, 0.95294118, 0.96470588, 0.96470588,\n",
       "        0.95294118, 0.98823529, 0.98823529, 0.98823529, 0.96470588,\n",
       "        0.96470588, 0.98823529]),\n",
       " 'split3_test_score': array([0.92941176, 0.91764706, 0.91764706, 0.92941176, 0.94117647,\n",
       "        0.92941176, 0.91764706, 0.96470588, 0.91764706, 0.92941176,\n",
       "        0.92941176, 0.94117647]),\n",
       " 'split4_test_score': array([0.91764706, 0.95294118, 0.92941176, 0.94117647, 0.94117647,\n",
       "        0.94117647, 0.94117647, 0.97647059, 0.94117647, 0.96470588,\n",
       "        0.97647059, 0.96470588]),\n",
       " 'std_fit_time': array([0.00310212, 0.0008146 , 0.00116441, 0.00554856, 0.00013178,\n",
       "        0.00239505, 0.00140627, 0.00168266, 0.00043563, 0.00046884,\n",
       "        0.00175665, 0.01195534]),\n",
       " 'std_score_time': array([6.09787666e-05, 4.42903505e-04, 9.66025692e-04, 6.36315781e-04,\n",
       "        3.40938922e-04, 5.61996642e-05, 1.41839427e-04, 6.76264885e-04,\n",
       "        6.46330913e-05, 2.43647457e-05, 7.36018813e-05, 2.46039426e-04]),\n",
       " 'std_test_score': array([0.02432104, 0.01496918, 0.01193765, 0.01379649, 0.01132893,\n",
       "        0.01602116, 0.02301372, 0.01360857, 0.03123711, 0.01362847,\n",
       "        0.01663925, 0.02186182])}"
      ]
     },
     "execution_count": 67,
     "metadata": {
      "tags": []
     },
     "output_type": "execute_result"
    }
   ],
   "source": [
    "# details: cv_rsults\n",
    "grid_search.cv_results_"
   ]
  },
  {
   "cell_type": "markdown",
   "metadata": {
    "id": "6qfD7UshNxiq"
   },
   "source": [
    "### GS on Iris Data"
   ]
  },
  {
   "cell_type": "code",
   "execution_count": null,
   "metadata": {
    "id": "m3unpDP2Nxi0"
   },
   "outputs": [],
   "source": [
    "# parameters\n",
    "param_grid = {'max_depth': range(1,20),'n_estimators': range(10,101,10)}"
   ]
  },
  {
   "cell_type": "code",
   "execution_count": null,
   "metadata": {
    "id": "Sa0UZf9eNxi1"
   },
   "outputs": [],
   "source": [
    "# instantiate the GridSearchCV class with the model rfc,\n",
    "#the parameter grid to search (param_grid), and the cross-validation strategy\n",
    "grid_search = GridSearchCV(rfc, param_grid, cv=5)"
   ]
  },
  {
   "cell_type": "code",
   "execution_count": null,
   "metadata": {
    "colab": {
     "base_uri": "https://localhost:8080/"
    },
    "id": "Tke5kpq8Nxi1",
    "outputId": "bd06c55a-83f7-4c12-d74b-f6937ac7f4c1"
   },
   "outputs": [
    {
     "data": {
      "text/plain": [
       "GridSearchCV(cv=5, error_score=nan,\n",
       "             estimator=RandomForestClassifier(bootstrap=True, ccp_alpha=0.0,\n",
       "                                              class_weight=None,\n",
       "                                              criterion='gini', max_depth=None,\n",
       "                                              max_features='auto',\n",
       "                                              max_leaf_nodes=None,\n",
       "                                              max_samples=None,\n",
       "                                              min_impurity_decrease=0.0,\n",
       "                                              min_impurity_split=None,\n",
       "                                              min_samples_leaf=1,\n",
       "                                              min_samples_split=2,\n",
       "                                              min_weight_fraction_leaf=0.0,\n",
       "                                              n_estimators=100, n_jobs=None,\n",
       "                                              oob_score=False,\n",
       "                                              random_state=None, verbose=0,\n",
       "                                              warm_start=False),\n",
       "             iid='deprecated', n_jobs=None,\n",
       "             param_grid={'max_depth': range(1, 20),\n",
       "                         'n_estimators': range(10, 101, 10)},\n",
       "             pre_dispatch='2*n_jobs', refit=True, return_train_score=False,\n",
       "             scoring=None, verbose=0)"
      ]
     },
     "execution_count": 70,
     "metadata": {
      "tags": []
     },
     "output_type": "execute_result"
    }
   ],
   "source": [
    "# fit\n",
    "grid_search.fit(X_iris_train, y_iris_train)"
   ]
  },
  {
   "cell_type": "code",
   "execution_count": null,
   "metadata": {
    "colab": {
     "base_uri": "https://localhost:8080/"
    },
    "id": "bKFw3xoCNxi3",
    "outputId": "2d84f501-999b-46b3-ddff-98967fb9fca9"
   },
   "outputs": [
    {
     "data": {
      "text/plain": [
       "{'max_depth': 7, 'n_estimators': 70}"
      ]
     },
     "execution_count": 71,
     "metadata": {
      "tags": []
     },
     "output_type": "execute_result"
    }
   ],
   "source": [
    "# best_params\n",
    "grid_search.best_params_"
   ]
  },
  {
   "cell_type": "code",
   "execution_count": null,
   "metadata": {
    "colab": {
     "base_uri": "https://localhost:8080/"
    },
    "id": "U-tQICJGNxi3",
    "outputId": "f2d7c8a4-36c3-4bd8-9569-5f9478ff41ec"
   },
   "outputs": [
    {
     "data": {
      "text/plain": [
       "0.9636363636363636"
      ]
     },
     "execution_count": 72,
     "metadata": {
      "tags": []
     },
     "output_type": "execute_result"
    }
   ],
   "source": [
    "# best scores\n",
    "grid_search.best_score_"
   ]
  },
  {
   "cell_type": "code",
   "execution_count": null,
   "metadata": {
    "colab": {
     "base_uri": "https://localhost:8080/"
    },
    "id": "kzSmFtvbNxi4",
    "outputId": "cccc2577-e0fb-481c-9947-4e454a866e0d"
   },
   "outputs": [
    {
     "data": {
      "text/plain": [
       "1.0"
      ]
     },
     "execution_count": 73,
     "metadata": {
      "tags": []
     },
     "output_type": "execute_result"
    }
   ],
   "source": [
    "# training score\n",
    "grid_search.score(X_iris_train, y_iris_train)"
   ]
  },
  {
   "cell_type": "code",
   "execution_count": null,
   "metadata": {
    "colab": {
     "base_uri": "https://localhost:8080/"
    },
    "id": "QDCRvH5QNxi4",
    "outputId": "f07cb178-4353-43a8-b037-6da4aecc0150"
   },
   "outputs": [
    {
     "data": {
      "text/plain": [
       "1.0"
      ]
     },
     "execution_count": 74,
     "metadata": {
      "tags": []
     },
     "output_type": "execute_result"
    }
   ],
   "source": [
    "# test score\n",
    "grid_search.score(X_iris_test, y_iris_test)"
   ]
  },
  {
   "cell_type": "code",
   "execution_count": null,
   "metadata": {
    "colab": {
     "base_uri": "https://localhost:8080/"
    },
    "id": "MW0VA2jcNxi5",
    "outputId": "c2b54b89-35f5-4914-b735-d6e804ab3ad6"
   },
   "outputs": [
    {
     "data": {
      "text/plain": [
       "RandomForestClassifier(bootstrap=True, ccp_alpha=0.0, class_weight=None,\n",
       "                       criterion='gini', max_depth=7, max_features='auto',\n",
       "                       max_leaf_nodes=None, max_samples=None,\n",
       "                       min_impurity_decrease=0.0, min_impurity_split=None,\n",
       "                       min_samples_leaf=1, min_samples_split=2,\n",
       "                       min_weight_fraction_leaf=0.0, n_estimators=70,\n",
       "                       n_jobs=None, oob_score=False, random_state=None,\n",
       "                       verbose=0, warm_start=False)"
      ]
     },
     "execution_count": 75,
     "metadata": {
      "tags": []
     },
     "output_type": "execute_result"
    }
   ],
   "source": [
    "# best estimator\n",
    "grid_search.best_estimator_"
   ]
  },
  {
   "cell_type": "code",
   "execution_count": null,
   "metadata": {
    "colab": {
     "base_uri": "https://localhost:8080/"
    },
    "id": "Y3vgIri0Nxi6",
    "outputId": "1f0c58db-cb86-45a4-cc81-243b66d06d09"
   },
   "outputs": [
    {
     "data": {
      "text/plain": [
       "{'mean_fit_time': array([0.01866593, 0.03106565, 0.04552794, 0.06790624, 0.07687678,\n",
       "        0.09031014, 0.10454798, 0.12000871, 0.13047867, 0.15131745,\n",
       "        0.01532474, 0.02934427, 0.0468524 , 0.06570644, 0.0735219 ,\n",
       "        0.09161191, 0.10417757, 0.12089086, 0.13640327, 0.14793692,\n",
       "        0.01580286, 0.03049855, 0.04453883, 0.0597693 , 0.08049979,\n",
       "        0.08769288, 0.10848584, 0.11946206, 0.13440766, 0.14998646,\n",
       "        0.01535416, 0.02993388, 0.04880223, 0.06020684, 0.07621012,\n",
       "        0.09609208, 0.10308738, 0.1190547 , 0.13517075, 0.14913974,\n",
       "        0.01619954, 0.03013425, 0.04525523, 0.06009493, 0.07660279,\n",
       "        0.08965368, 0.10505962, 0.11767054, 0.13540196, 0.15582261,\n",
       "        0.0157094 , 0.03010774, 0.04812093, 0.05972247, 0.07412481,\n",
       "        0.09342036, 0.10494738, 0.12602863, 0.13401251, 0.14967752,\n",
       "        0.01508179, 0.02975326, 0.04495173, 0.05921097, 0.07787557,\n",
       "        0.0901052 , 0.10657549, 0.12138319, 0.13431153, 0.15414605,\n",
       "        0.01570415, 0.03019056, 0.0463367 , 0.05740118, 0.07452683,\n",
       "        0.09278784, 0.10727506, 0.11582813, 0.13805289, 0.15033784,\n",
       "        0.01644478, 0.02902145, 0.04366431, 0.06016407, 0.07461371,\n",
       "        0.08872166, 0.10621815, 0.11922984, 0.13474102, 0.15204415,\n",
       "        0.01584201, 0.03227115, 0.04596033, 0.06342549, 0.07558174,\n",
       "        0.09103107, 0.1050385 , 0.12270708, 0.13558779, 0.14792509,\n",
       "        0.01755247, 0.03297043, 0.04653802, 0.06003923, 0.07408605,\n",
       "        0.09028049, 0.10605168, 0.12236557, 0.13694224, 0.15123119,\n",
       "        0.01786208, 0.03095307, 0.0449266 , 0.06176825, 0.07884417,\n",
       "        0.09238071, 0.11069541, 0.12019153, 0.1350913 , 0.15330648,\n",
       "        0.01818552, 0.03122568, 0.04728575, 0.06148419, 0.08193936,\n",
       "        0.09253917, 0.11072087, 0.12273145, 0.14009018, 0.15439043,\n",
       "        0.01630025, 0.03015752, 0.04437962, 0.06047301, 0.07582126,\n",
       "        0.09262834, 0.1077107 , 0.12604122, 0.13674002, 0.15491676,\n",
       "        0.01673512, 0.03259296, 0.04513927, 0.06321359, 0.0774869 ,\n",
       "        0.09556508, 0.11152048, 0.12275014, 0.13761177, 0.15346098,\n",
       "        0.01580315, 0.03157158, 0.04573274, 0.06135278, 0.07894425,\n",
       "        0.09444466, 0.10711718, 0.12451439, 0.13775835, 0.15552521,\n",
       "        0.01695971, 0.03214879, 0.04610124, 0.06391792, 0.07894888,\n",
       "        0.09292784, 0.10486884, 0.12324452, 0.13627753, 0.15232458,\n",
       "        0.01562061, 0.03301778, 0.04526477, 0.06099839, 0.07764025,\n",
       "        0.08893576, 0.10522585, 0.12061234, 0.13737159, 0.15420623,\n",
       "        0.01553702, 0.03021269, 0.04449296, 0.06358705, 0.07539506,\n",
       "        0.0941318 , 0.10726485, 0.12585554, 0.14095111, 0.14771366]),\n",
       " 'mean_score_time': array([0.00231285, 0.00283847, 0.00419989, 0.00504584, 0.005793  ,\n",
       "        0.00728431, 0.00865455, 0.01123319, 0.01012425, 0.01188335,\n",
       "        0.00177464, 0.00273008, 0.00403943, 0.00541077, 0.00643497,\n",
       "        0.00725603, 0.00791459, 0.01040349, 0.01015396, 0.01093454,\n",
       "        0.0022615 , 0.00277324, 0.00382934, 0.00578074, 0.00624704,\n",
       "        0.00712748, 0.00836086, 0.00934539, 0.01006866, 0.0112277 ,\n",
       "        0.00185895, 0.0028378 , 0.00399647, 0.00537977, 0.00649691,\n",
       "        0.00706778, 0.00893822, 0.00934877, 0.01125355, 0.01169386,\n",
       "        0.00178218, 0.00277953, 0.00390077, 0.00480819, 0.00582314,\n",
       "        0.00704794, 0.00808644, 0.01064062, 0.01157537, 0.01259336,\n",
       "        0.001864  , 0.00290303, 0.00384626, 0.00488958, 0.00643487,\n",
       "        0.0078444 , 0.00815883, 0.01278057, 0.01226535, 0.01093216,\n",
       "        0.00175056, 0.00280828, 0.00384192, 0.00487461, 0.00708337,\n",
       "        0.00721359, 0.00880589, 0.01072388, 0.01026192, 0.0111999 ,\n",
       "        0.00185823, 0.00282202, 0.00392423, 0.00480294, 0.00604734,\n",
       "        0.00777259, 0.00825   , 0.00906558, 0.01089125, 0.01208329,\n",
       "        0.00188828, 0.00277572, 0.00396137, 0.00563793, 0.00619531,\n",
       "        0.00741606, 0.00862398, 0.00984383, 0.01104922, 0.01109381,\n",
       "        0.00201659, 0.00307589, 0.00401125, 0.00511031, 0.00597086,\n",
       "        0.00702691, 0.00826235, 0.00963821, 0.0110764 , 0.01280999,\n",
       "        0.00180011, 0.00301323, 0.00405874, 0.00529752, 0.00612679,\n",
       "        0.00793667, 0.00986962, 0.00945005, 0.01027713, 0.01135373,\n",
       "        0.00203199, 0.00335875, 0.0038847 , 0.00527859, 0.00718303,\n",
       "        0.00864835, 0.00809994, 0.00956087, 0.01279488, 0.01267047,\n",
       "        0.00210085, 0.0031405 , 0.0040926 , 0.00507183, 0.0071599 ,\n",
       "        0.00712981, 0.00883503, 0.00920191, 0.01127281, 0.01346717,\n",
       "        0.00184894, 0.00290809, 0.00442576, 0.00516582, 0.00686712,\n",
       "        0.00733809, 0.00800591, 0.00964112, 0.01203008, 0.01472321,\n",
       "        0.00196939, 0.0033648 , 0.0044065 , 0.0052763 , 0.00674062,\n",
       "        0.00760965, 0.00858245, 0.01021085, 0.01183567, 0.01247163,\n",
       "        0.00187879, 0.00287447, 0.00398669, 0.00550046, 0.00631824,\n",
       "        0.00733891, 0.00987506, 0.01048427, 0.01290107, 0.01319108,\n",
       "        0.00202284, 0.00287533, 0.00412426, 0.00560904, 0.00638208,\n",
       "        0.00702848, 0.00812778, 0.01077213, 0.01114869, 0.0113811 ,\n",
       "        0.00177979, 0.00326052, 0.00410438, 0.00536819, 0.00717492,\n",
       "        0.00812478, 0.00801983, 0.00909371, 0.01236577, 0.01320138,\n",
       "        0.00197215, 0.00284224, 0.00385375, 0.00556784, 0.00599408,\n",
       "        0.00736189, 0.00839558, 0.01087918, 0.01117387, 0.01226854]),\n",
       " 'mean_test_score': array([0.76996047, 0.89328063, 0.91857708, 0.92806324, 0.92766798,\n",
       "        0.93636364, 0.92766798, 0.93675889, 0.94545455, 0.93636364,\n",
       "        0.93715415, 0.9458498 , 0.93715415, 0.92806324, 0.93715415,\n",
       "        0.93675889, 0.92806324, 0.9458498 , 0.92806324, 0.93715415,\n",
       "        0.94624506, 0.93636364, 0.9458498 , 0.95494071, 0.9458498 ,\n",
       "        0.9458498 , 0.95494071, 0.93715415, 0.9458498 , 0.93715415,\n",
       "        0.9284585 , 0.92806324, 0.94624506, 0.94624506, 0.9458498 ,\n",
       "        0.9458498 , 0.93715415, 0.93715415, 0.9458498 , 0.94624506,\n",
       "        0.92806324, 0.9458498 , 0.93715415, 0.93754941, 0.9458498 ,\n",
       "        0.92806324, 0.93715415, 0.93715415, 0.94624506, 0.9458498 ,\n",
       "        0.9284585 , 0.9458498 , 0.9458498 , 0.92806324, 0.93715415,\n",
       "        0.93715415, 0.93715415, 0.93715415, 0.92806324, 0.93715415,\n",
       "        0.93715415, 0.94624506, 0.93715415, 0.93715415, 0.9458498 ,\n",
       "        0.9458498 , 0.96363636, 0.9284585 , 0.9284585 , 0.93715415,\n",
       "        0.92806324, 0.9458498 , 0.91897233, 0.9458498 , 0.93675889,\n",
       "        0.9458498 , 0.93715415, 0.9284585 , 0.93715415, 0.9458498 ,\n",
       "        0.9284585 , 0.93715415, 0.9284585 , 0.9284585 , 0.9284585 ,\n",
       "        0.93715415, 0.94624506, 0.93715415, 0.9284585 , 0.9458498 ,\n",
       "        0.92806324, 0.94545455, 0.93715415, 0.9284585 , 0.9458498 ,\n",
       "        0.9458498 , 0.9284585 , 0.93675889, 0.93715415, 0.93715415,\n",
       "        0.9284585 , 0.93715415, 0.91936759, 0.91936759, 0.9458498 ,\n",
       "        0.9284585 , 0.9458498 , 0.93715415, 0.9458498 , 0.93715415,\n",
       "        0.93675889, 0.91936759, 0.9458498 , 0.9458498 , 0.94624506,\n",
       "        0.92806324, 0.9458498 , 0.95494071, 0.93675889, 0.93715415,\n",
       "        0.93715415, 0.92806324, 0.93715415, 0.93715415, 0.9458498 ,\n",
       "        0.9458498 , 0.93715415, 0.93715415, 0.93715415, 0.91936759,\n",
       "        0.91936759, 0.9284585 , 0.94624506, 0.9458498 , 0.93754941,\n",
       "        0.93715415, 0.93715415, 0.92806324, 0.9458498 , 0.9458498 ,\n",
       "        0.9458498 , 0.9458498 , 0.9458498 , 0.9284585 , 0.93715415,\n",
       "        0.93715415, 0.95494071, 0.93715415, 0.9458498 , 0.93715415,\n",
       "        0.92806324, 0.92806324, 0.94624506, 0.9458498 , 0.93715415,\n",
       "        0.9458498 , 0.93715415, 0.9458498 , 0.93715415, 0.93715415,\n",
       "        0.93715415, 0.93715415, 0.91027668, 0.94624506, 0.9284585 ,\n",
       "        0.93715415, 0.9284585 , 0.93715415, 0.94624506, 0.9458498 ,\n",
       "        0.9458498 , 0.92806324, 0.9284585 , 0.9284585 , 0.93715415,\n",
       "        0.93715415, 0.93715415, 0.91936759, 0.93715415, 0.91027668,\n",
       "        0.92766798, 0.92806324, 0.94624506, 0.93715415, 0.92806324,\n",
       "        0.93754941, 0.9458498 , 0.94624506, 0.93715415, 0.93715415]),\n",
       " 'param_max_depth': masked_array(data=[1, 1, 1, 1, 1, 1, 1, 1, 1, 1, 2, 2, 2, 2, 2, 2, 2, 2,\n",
       "                    2, 2, 3, 3, 3, 3, 3, 3, 3, 3, 3, 3, 4, 4, 4, 4, 4, 4,\n",
       "                    4, 4, 4, 4, 5, 5, 5, 5, 5, 5, 5, 5, 5, 5, 6, 6, 6, 6,\n",
       "                    6, 6, 6, 6, 6, 6, 7, 7, 7, 7, 7, 7, 7, 7, 7, 7, 8, 8,\n",
       "                    8, 8, 8, 8, 8, 8, 8, 8, 9, 9, 9, 9, 9, 9, 9, 9, 9, 9,\n",
       "                    10, 10, 10, 10, 10, 10, 10, 10, 10, 10, 11, 11, 11, 11,\n",
       "                    11, 11, 11, 11, 11, 11, 12, 12, 12, 12, 12, 12, 12, 12,\n",
       "                    12, 12, 13, 13, 13, 13, 13, 13, 13, 13, 13, 13, 14, 14,\n",
       "                    14, 14, 14, 14, 14, 14, 14, 14, 15, 15, 15, 15, 15, 15,\n",
       "                    15, 15, 15, 15, 16, 16, 16, 16, 16, 16, 16, 16, 16, 16,\n",
       "                    17, 17, 17, 17, 17, 17, 17, 17, 17, 17, 18, 18, 18, 18,\n",
       "                    18, 18, 18, 18, 18, 18, 19, 19, 19, 19, 19, 19, 19, 19,\n",
       "                    19, 19],\n",
       "              mask=[False, False, False, False, False, False, False, False,\n",
       "                    False, False, False, False, False, False, False, False,\n",
       "                    False, False, False, False, False, False, False, False,\n",
       "                    False, False, False, False, False, False, False, False,\n",
       "                    False, False, False, False, False, False, False, False,\n",
       "                    False, False, False, False, False, False, False, False,\n",
       "                    False, False, False, False, False, False, False, False,\n",
       "                    False, False, False, False, False, False, False, False,\n",
       "                    False, False, False, False, False, False, False, False,\n",
       "                    False, False, False, False, False, False, False, False,\n",
       "                    False, False, False, False, False, False, False, False,\n",
       "                    False, False, False, False, False, False, False, False,\n",
       "                    False, False, False, False, False, False, False, False,\n",
       "                    False, False, False, False, False, False, False, False,\n",
       "                    False, False, False, False, False, False, False, False,\n",
       "                    False, False, False, False, False, False, False, False,\n",
       "                    False, False, False, False, False, False, False, False,\n",
       "                    False, False, False, False, False, False, False, False,\n",
       "                    False, False, False, False, False, False, False, False,\n",
       "                    False, False, False, False, False, False, False, False,\n",
       "                    False, False, False, False, False, False, False, False,\n",
       "                    False, False, False, False, False, False, False, False,\n",
       "                    False, False, False, False, False, False, False, False,\n",
       "                    False, False, False, False, False, False],\n",
       "        fill_value='?',\n",
       "             dtype=object),\n",
       " 'param_n_estimators': masked_array(data=[10, 20, 30, 40, 50, 60, 70, 80, 90, 100, 10, 20, 30,\n",
       "                    40, 50, 60, 70, 80, 90, 100, 10, 20, 30, 40, 50, 60,\n",
       "                    70, 80, 90, 100, 10, 20, 30, 40, 50, 60, 70, 80, 90,\n",
       "                    100, 10, 20, 30, 40, 50, 60, 70, 80, 90, 100, 10, 20,\n",
       "                    30, 40, 50, 60, 70, 80, 90, 100, 10, 20, 30, 40, 50,\n",
       "                    60, 70, 80, 90, 100, 10, 20, 30, 40, 50, 60, 70, 80,\n",
       "                    90, 100, 10, 20, 30, 40, 50, 60, 70, 80, 90, 100, 10,\n",
       "                    20, 30, 40, 50, 60, 70, 80, 90, 100, 10, 20, 30, 40,\n",
       "                    50, 60, 70, 80, 90, 100, 10, 20, 30, 40, 50, 60, 70,\n",
       "                    80, 90, 100, 10, 20, 30, 40, 50, 60, 70, 80, 90, 100,\n",
       "                    10, 20, 30, 40, 50, 60, 70, 80, 90, 100, 10, 20, 30,\n",
       "                    40, 50, 60, 70, 80, 90, 100, 10, 20, 30, 40, 50, 60,\n",
       "                    70, 80, 90, 100, 10, 20, 30, 40, 50, 60, 70, 80, 90,\n",
       "                    100, 10, 20, 30, 40, 50, 60, 70, 80, 90, 100, 10, 20,\n",
       "                    30, 40, 50, 60, 70, 80, 90, 100],\n",
       "              mask=[False, False, False, False, False, False, False, False,\n",
       "                    False, False, False, False, False, False, False, False,\n",
       "                    False, False, False, False, False, False, False, False,\n",
       "                    False, False, False, False, False, False, False, False,\n",
       "                    False, False, False, False, False, False, False, False,\n",
       "                    False, False, False, False, False, False, False, False,\n",
       "                    False, False, False, False, False, False, False, False,\n",
       "                    False, False, False, False, False, False, False, False,\n",
       "                    False, False, False, False, False, False, False, False,\n",
       "                    False, False, False, False, False, False, False, False,\n",
       "                    False, False, False, False, False, False, False, False,\n",
       "                    False, False, False, False, False, False, False, False,\n",
       "                    False, False, False, False, False, False, False, False,\n",
       "                    False, False, False, False, False, False, False, False,\n",
       "                    False, False, False, False, False, False, False, False,\n",
       "                    False, False, False, False, False, False, False, False,\n",
       "                    False, False, False, False, False, False, False, False,\n",
       "                    False, False, False, False, False, False, False, False,\n",
       "                    False, False, False, False, False, False, False, False,\n",
       "                    False, False, False, False, False, False, False, False,\n",
       "                    False, False, False, False, False, False, False, False,\n",
       "                    False, False, False, False, False, False, False, False,\n",
       "                    False, False, False, False, False, False, False, False,\n",
       "                    False, False, False, False, False, False],\n",
       "        fill_value='?',\n",
       "             dtype=object),\n",
       " 'params': [{'max_depth': 1, 'n_estimators': 10},\n",
       "  {'max_depth': 1, 'n_estimators': 20},\n",
       "  {'max_depth': 1, 'n_estimators': 30},\n",
       "  {'max_depth': 1, 'n_estimators': 40},\n",
       "  {'max_depth': 1, 'n_estimators': 50},\n",
       "  {'max_depth': 1, 'n_estimators': 60},\n",
       "  {'max_depth': 1, 'n_estimators': 70},\n",
       "  {'max_depth': 1, 'n_estimators': 80},\n",
       "  {'max_depth': 1, 'n_estimators': 90},\n",
       "  {'max_depth': 1, 'n_estimators': 100},\n",
       "  {'max_depth': 2, 'n_estimators': 10},\n",
       "  {'max_depth': 2, 'n_estimators': 20},\n",
       "  {'max_depth': 2, 'n_estimators': 30},\n",
       "  {'max_depth': 2, 'n_estimators': 40},\n",
       "  {'max_depth': 2, 'n_estimators': 50},\n",
       "  {'max_depth': 2, 'n_estimators': 60},\n",
       "  {'max_depth': 2, 'n_estimators': 70},\n",
       "  {'max_depth': 2, 'n_estimators': 80},\n",
       "  {'max_depth': 2, 'n_estimators': 90},\n",
       "  {'max_depth': 2, 'n_estimators': 100},\n",
       "  {'max_depth': 3, 'n_estimators': 10},\n",
       "  {'max_depth': 3, 'n_estimators': 20},\n",
       "  {'max_depth': 3, 'n_estimators': 30},\n",
       "  {'max_depth': 3, 'n_estimators': 40},\n",
       "  {'max_depth': 3, 'n_estimators': 50},\n",
       "  {'max_depth': 3, 'n_estimators': 60},\n",
       "  {'max_depth': 3, 'n_estimators': 70},\n",
       "  {'max_depth': 3, 'n_estimators': 80},\n",
       "  {'max_depth': 3, 'n_estimators': 90},\n",
       "  {'max_depth': 3, 'n_estimators': 100},\n",
       "  {'max_depth': 4, 'n_estimators': 10},\n",
       "  {'max_depth': 4, 'n_estimators': 20},\n",
       "  {'max_depth': 4, 'n_estimators': 30},\n",
       "  {'max_depth': 4, 'n_estimators': 40},\n",
       "  {'max_depth': 4, 'n_estimators': 50},\n",
       "  {'max_depth': 4, 'n_estimators': 60},\n",
       "  {'max_depth': 4, 'n_estimators': 70},\n",
       "  {'max_depth': 4, 'n_estimators': 80},\n",
       "  {'max_depth': 4, 'n_estimators': 90},\n",
       "  {'max_depth': 4, 'n_estimators': 100},\n",
       "  {'max_depth': 5, 'n_estimators': 10},\n",
       "  {'max_depth': 5, 'n_estimators': 20},\n",
       "  {'max_depth': 5, 'n_estimators': 30},\n",
       "  {'max_depth': 5, 'n_estimators': 40},\n",
       "  {'max_depth': 5, 'n_estimators': 50},\n",
       "  {'max_depth': 5, 'n_estimators': 60},\n",
       "  {'max_depth': 5, 'n_estimators': 70},\n",
       "  {'max_depth': 5, 'n_estimators': 80},\n",
       "  {'max_depth': 5, 'n_estimators': 90},\n",
       "  {'max_depth': 5, 'n_estimators': 100},\n",
       "  {'max_depth': 6, 'n_estimators': 10},\n",
       "  {'max_depth': 6, 'n_estimators': 20},\n",
       "  {'max_depth': 6, 'n_estimators': 30},\n",
       "  {'max_depth': 6, 'n_estimators': 40},\n",
       "  {'max_depth': 6, 'n_estimators': 50},\n",
       "  {'max_depth': 6, 'n_estimators': 60},\n",
       "  {'max_depth': 6, 'n_estimators': 70},\n",
       "  {'max_depth': 6, 'n_estimators': 80},\n",
       "  {'max_depth': 6, 'n_estimators': 90},\n",
       "  {'max_depth': 6, 'n_estimators': 100},\n",
       "  {'max_depth': 7, 'n_estimators': 10},\n",
       "  {'max_depth': 7, 'n_estimators': 20},\n",
       "  {'max_depth': 7, 'n_estimators': 30},\n",
       "  {'max_depth': 7, 'n_estimators': 40},\n",
       "  {'max_depth': 7, 'n_estimators': 50},\n",
       "  {'max_depth': 7, 'n_estimators': 60},\n",
       "  {'max_depth': 7, 'n_estimators': 70},\n",
       "  {'max_depth': 7, 'n_estimators': 80},\n",
       "  {'max_depth': 7, 'n_estimators': 90},\n",
       "  {'max_depth': 7, 'n_estimators': 100},\n",
       "  {'max_depth': 8, 'n_estimators': 10},\n",
       "  {'max_depth': 8, 'n_estimators': 20},\n",
       "  {'max_depth': 8, 'n_estimators': 30},\n",
       "  {'max_depth': 8, 'n_estimators': 40},\n",
       "  {'max_depth': 8, 'n_estimators': 50},\n",
       "  {'max_depth': 8, 'n_estimators': 60},\n",
       "  {'max_depth': 8, 'n_estimators': 70},\n",
       "  {'max_depth': 8, 'n_estimators': 80},\n",
       "  {'max_depth': 8, 'n_estimators': 90},\n",
       "  {'max_depth': 8, 'n_estimators': 100},\n",
       "  {'max_depth': 9, 'n_estimators': 10},\n",
       "  {'max_depth': 9, 'n_estimators': 20},\n",
       "  {'max_depth': 9, 'n_estimators': 30},\n",
       "  {'max_depth': 9, 'n_estimators': 40},\n",
       "  {'max_depth': 9, 'n_estimators': 50},\n",
       "  {'max_depth': 9, 'n_estimators': 60},\n",
       "  {'max_depth': 9, 'n_estimators': 70},\n",
       "  {'max_depth': 9, 'n_estimators': 80},\n",
       "  {'max_depth': 9, 'n_estimators': 90},\n",
       "  {'max_depth': 9, 'n_estimators': 100},\n",
       "  {'max_depth': 10, 'n_estimators': 10},\n",
       "  {'max_depth': 10, 'n_estimators': 20},\n",
       "  {'max_depth': 10, 'n_estimators': 30},\n",
       "  {'max_depth': 10, 'n_estimators': 40},\n",
       "  {'max_depth': 10, 'n_estimators': 50},\n",
       "  {'max_depth': 10, 'n_estimators': 60},\n",
       "  {'max_depth': 10, 'n_estimators': 70},\n",
       "  {'max_depth': 10, 'n_estimators': 80},\n",
       "  {'max_depth': 10, 'n_estimators': 90},\n",
       "  {'max_depth': 10, 'n_estimators': 100},\n",
       "  {'max_depth': 11, 'n_estimators': 10},\n",
       "  {'max_depth': 11, 'n_estimators': 20},\n",
       "  {'max_depth': 11, 'n_estimators': 30},\n",
       "  {'max_depth': 11, 'n_estimators': 40},\n",
       "  {'max_depth': 11, 'n_estimators': 50},\n",
       "  {'max_depth': 11, 'n_estimators': 60},\n",
       "  {'max_depth': 11, 'n_estimators': 70},\n",
       "  {'max_depth': 11, 'n_estimators': 80},\n",
       "  {'max_depth': 11, 'n_estimators': 90},\n",
       "  {'max_depth': 11, 'n_estimators': 100},\n",
       "  {'max_depth': 12, 'n_estimators': 10},\n",
       "  {'max_depth': 12, 'n_estimators': 20},\n",
       "  {'max_depth': 12, 'n_estimators': 30},\n",
       "  {'max_depth': 12, 'n_estimators': 40},\n",
       "  {'max_depth': 12, 'n_estimators': 50},\n",
       "  {'max_depth': 12, 'n_estimators': 60},\n",
       "  {'max_depth': 12, 'n_estimators': 70},\n",
       "  {'max_depth': 12, 'n_estimators': 80},\n",
       "  {'max_depth': 12, 'n_estimators': 90},\n",
       "  {'max_depth': 12, 'n_estimators': 100},\n",
       "  {'max_depth': 13, 'n_estimators': 10},\n",
       "  {'max_depth': 13, 'n_estimators': 20},\n",
       "  {'max_depth': 13, 'n_estimators': 30},\n",
       "  {'max_depth': 13, 'n_estimators': 40},\n",
       "  {'max_depth': 13, 'n_estimators': 50},\n",
       "  {'max_depth': 13, 'n_estimators': 60},\n",
       "  {'max_depth': 13, 'n_estimators': 70},\n",
       "  {'max_depth': 13, 'n_estimators': 80},\n",
       "  {'max_depth': 13, 'n_estimators': 90},\n",
       "  {'max_depth': 13, 'n_estimators': 100},\n",
       "  {'max_depth': 14, 'n_estimators': 10},\n",
       "  {'max_depth': 14, 'n_estimators': 20},\n",
       "  {'max_depth': 14, 'n_estimators': 30},\n",
       "  {'max_depth': 14, 'n_estimators': 40},\n",
       "  {'max_depth': 14, 'n_estimators': 50},\n",
       "  {'max_depth': 14, 'n_estimators': 60},\n",
       "  {'max_depth': 14, 'n_estimators': 70},\n",
       "  {'max_depth': 14, 'n_estimators': 80},\n",
       "  {'max_depth': 14, 'n_estimators': 90},\n",
       "  {'max_depth': 14, 'n_estimators': 100},\n",
       "  {'max_depth': 15, 'n_estimators': 10},\n",
       "  {'max_depth': 15, 'n_estimators': 20},\n",
       "  {'max_depth': 15, 'n_estimators': 30},\n",
       "  {'max_depth': 15, 'n_estimators': 40},\n",
       "  {'max_depth': 15, 'n_estimators': 50},\n",
       "  {'max_depth': 15, 'n_estimators': 60},\n",
       "  {'max_depth': 15, 'n_estimators': 70},\n",
       "  {'max_depth': 15, 'n_estimators': 80},\n",
       "  {'max_depth': 15, 'n_estimators': 90},\n",
       "  {'max_depth': 15, 'n_estimators': 100},\n",
       "  {'max_depth': 16, 'n_estimators': 10},\n",
       "  {'max_depth': 16, 'n_estimators': 20},\n",
       "  {'max_depth': 16, 'n_estimators': 30},\n",
       "  {'max_depth': 16, 'n_estimators': 40},\n",
       "  {'max_depth': 16, 'n_estimators': 50},\n",
       "  {'max_depth': 16, 'n_estimators': 60},\n",
       "  {'max_depth': 16, 'n_estimators': 70},\n",
       "  {'max_depth': 16, 'n_estimators': 80},\n",
       "  {'max_depth': 16, 'n_estimators': 90},\n",
       "  {'max_depth': 16, 'n_estimators': 100},\n",
       "  {'max_depth': 17, 'n_estimators': 10},\n",
       "  {'max_depth': 17, 'n_estimators': 20},\n",
       "  {'max_depth': 17, 'n_estimators': 30},\n",
       "  {'max_depth': 17, 'n_estimators': 40},\n",
       "  {'max_depth': 17, 'n_estimators': 50},\n",
       "  {'max_depth': 17, 'n_estimators': 60},\n",
       "  {'max_depth': 17, 'n_estimators': 70},\n",
       "  {'max_depth': 17, 'n_estimators': 80},\n",
       "  {'max_depth': 17, 'n_estimators': 90},\n",
       "  {'max_depth': 17, 'n_estimators': 100},\n",
       "  {'max_depth': 18, 'n_estimators': 10},\n",
       "  {'max_depth': 18, 'n_estimators': 20},\n",
       "  {'max_depth': 18, 'n_estimators': 30},\n",
       "  {'max_depth': 18, 'n_estimators': 40},\n",
       "  {'max_depth': 18, 'n_estimators': 50},\n",
       "  {'max_depth': 18, 'n_estimators': 60},\n",
       "  {'max_depth': 18, 'n_estimators': 70},\n",
       "  {'max_depth': 18, 'n_estimators': 80},\n",
       "  {'max_depth': 18, 'n_estimators': 90},\n",
       "  {'max_depth': 18, 'n_estimators': 100},\n",
       "  {'max_depth': 19, 'n_estimators': 10},\n",
       "  {'max_depth': 19, 'n_estimators': 20},\n",
       "  {'max_depth': 19, 'n_estimators': 30},\n",
       "  {'max_depth': 19, 'n_estimators': 40},\n",
       "  {'max_depth': 19, 'n_estimators': 50},\n",
       "  {'max_depth': 19, 'n_estimators': 60},\n",
       "  {'max_depth': 19, 'n_estimators': 70},\n",
       "  {'max_depth': 19, 'n_estimators': 80},\n",
       "  {'max_depth': 19, 'n_estimators': 90},\n",
       "  {'max_depth': 19, 'n_estimators': 100}],\n",
       " 'rank_test_score': array([190, 189, 186, 157, 177, 134, 177, 128,  64, 134,  69,  20,  69,\n",
       "        157,  69, 128, 174,  20, 157,  69,   6, 134,  20,   2,  20,  20,\n",
       "          2,  69,  20,  69, 137, 157,   6,   6,  20,  20,  69,  69,  20,\n",
       "          6, 157,  20,  69,  66,  20, 157,  69,  69,   6,  20, 137,  20,\n",
       "         20, 157,  69,  69,  69,  69, 157,  69,  69,   6,  69,  69,  20,\n",
       "         20,   1, 137, 137,  69, 157,  20, 185,  20, 128,  20,  69, 137,\n",
       "         69,  20, 137,  69, 137, 137, 137,  69,   6,  69, 137,  20, 174,\n",
       "         64,  69, 137,  20,  20, 137, 128,  69,  69, 137,  69, 179, 179,\n",
       "         20, 137,  20,  69,  20,  69, 128, 179,  20,  20,   6, 157,  20,\n",
       "          2, 128,  69,  69, 157,  69,  69,  20,  20,  69,  69,  69, 179,\n",
       "        179, 137,   6,  20,  66,  69,  69, 157,  20,  20,  20,  20,  20,\n",
       "        137,  69,  69,   2,  69,  20,  69, 157, 157,   6,  20,  69,  20,\n",
       "         69,  20,  69,  69,  69,  69, 187,   6, 137,  69, 137,  69,   6,\n",
       "         20,  20, 157, 137, 137,  69,  69,  69, 179,  69, 187, 176, 157,\n",
       "          6,  69, 157,  66,  20,   6,  69,  69], dtype=int32),\n",
       " 'split0_test_score': array([0.65217391, 0.7826087 , 1.        , 0.95652174, 1.        ,\n",
       "        1.        , 1.        , 1.        , 1.        , 1.        ,\n",
       "        0.95652174, 0.95652174, 0.95652174, 0.95652174, 0.95652174,\n",
       "        1.        , 0.95652174, 0.95652174, 0.95652174, 0.95652174,\n",
       "        0.95652174, 1.        , 0.95652174, 0.95652174, 0.95652174,\n",
       "        0.95652174, 0.95652174, 0.95652174, 0.95652174, 0.95652174,\n",
       "        0.95652174, 0.95652174, 0.95652174, 0.95652174, 0.95652174,\n",
       "        0.95652174, 0.95652174, 0.95652174, 1.        , 0.95652174,\n",
       "        0.95652174, 0.95652174, 0.95652174, 0.95652174, 0.95652174,\n",
       "        0.95652174, 0.95652174, 0.95652174, 0.95652174, 0.95652174,\n",
       "        0.95652174, 1.        , 0.95652174, 0.95652174, 0.95652174,\n",
       "        0.95652174, 0.95652174, 0.95652174, 0.95652174, 0.95652174,\n",
       "        0.95652174, 0.95652174, 0.95652174, 0.95652174, 0.95652174,\n",
       "        0.95652174, 1.        , 0.95652174, 0.95652174, 0.95652174,\n",
       "        0.95652174, 0.95652174, 0.95652174, 0.95652174, 0.95652174,\n",
       "        0.95652174, 0.95652174, 0.95652174, 0.95652174, 0.95652174,\n",
       "        0.95652174, 0.95652174, 0.95652174, 0.95652174, 0.95652174,\n",
       "        0.95652174, 0.95652174, 0.95652174, 0.95652174, 0.95652174,\n",
       "        0.95652174, 1.        , 0.95652174, 0.95652174, 0.95652174,\n",
       "        0.95652174, 0.95652174, 0.95652174, 0.95652174, 0.95652174,\n",
       "        0.95652174, 0.95652174, 0.95652174, 0.95652174, 0.95652174,\n",
       "        0.95652174, 0.95652174, 0.95652174, 0.95652174, 0.95652174,\n",
       "        0.95652174, 0.95652174, 1.        , 0.95652174, 0.95652174,\n",
       "        0.95652174, 0.95652174, 0.95652174, 0.95652174, 0.95652174,\n",
       "        0.95652174, 0.95652174, 0.95652174, 0.95652174, 1.        ,\n",
       "        0.95652174, 0.95652174, 0.95652174, 0.95652174, 0.95652174,\n",
       "        0.95652174, 0.95652174, 0.95652174, 0.95652174, 0.95652174,\n",
       "        0.95652174, 0.95652174, 0.95652174, 0.95652174, 0.95652174,\n",
       "        1.        , 0.95652174, 0.95652174, 0.95652174, 0.95652174,\n",
       "        1.        , 0.95652174, 0.95652174, 0.95652174, 0.95652174,\n",
       "        0.95652174, 0.95652174, 0.95652174, 0.95652174, 0.95652174,\n",
       "        0.95652174, 0.95652174, 0.95652174, 0.95652174, 0.95652174,\n",
       "        0.95652174, 0.95652174, 0.95652174, 0.95652174, 0.95652174,\n",
       "        0.95652174, 0.95652174, 0.95652174, 0.95652174, 0.95652174,\n",
       "        0.95652174, 0.95652174, 0.95652174, 0.95652174, 0.95652174,\n",
       "        0.95652174, 0.95652174, 0.95652174, 0.95652174, 0.95652174,\n",
       "        0.95652174, 1.        , 0.95652174, 0.95652174, 0.95652174,\n",
       "        0.95652174, 0.95652174, 0.95652174, 0.95652174, 0.95652174]),\n",
       " 'split1_test_score': array([0.65217391, 0.95652174, 0.95652174, 0.95652174, 0.95652174,\n",
       "        1.        , 0.95652174, 0.95652174, 1.        , 1.        ,\n",
       "        0.95652174, 1.        , 0.95652174, 0.95652174, 0.95652174,\n",
       "        0.95652174, 0.95652174, 1.        , 0.95652174, 0.95652174,\n",
       "        0.95652174, 1.        , 1.        , 1.        , 1.        ,\n",
       "        1.        , 1.        , 0.95652174, 1.        , 0.95652174,\n",
       "        0.91304348, 0.95652174, 0.95652174, 0.95652174, 1.        ,\n",
       "        1.        , 0.95652174, 0.95652174, 0.95652174, 0.95652174,\n",
       "        0.95652174, 1.        , 0.95652174, 0.91304348, 1.        ,\n",
       "        0.95652174, 0.95652174, 0.95652174, 0.95652174, 1.        ,\n",
       "        0.91304348, 0.95652174, 1.        , 0.95652174, 0.95652174,\n",
       "        0.95652174, 0.95652174, 0.95652174, 0.95652174, 0.95652174,\n",
       "        0.95652174, 0.95652174, 0.95652174, 0.95652174, 1.        ,\n",
       "        1.        , 1.        , 0.91304348, 0.91304348, 0.95652174,\n",
       "        0.95652174, 1.        , 0.95652174, 1.        , 1.        ,\n",
       "        1.        , 0.95652174, 0.91304348, 0.95652174, 1.        ,\n",
       "        0.91304348, 0.95652174, 0.91304348, 0.91304348, 0.91304348,\n",
       "        0.95652174, 0.95652174, 0.95652174, 0.91304348, 1.        ,\n",
       "        0.95652174, 1.        , 0.95652174, 0.91304348, 1.        ,\n",
       "        1.        , 0.91304348, 1.        , 0.95652174, 0.95652174,\n",
       "        0.91304348, 0.95652174, 0.91304348, 0.91304348, 1.        ,\n",
       "        0.91304348, 1.        , 0.95652174, 1.        , 0.95652174,\n",
       "        1.        , 0.91304348, 0.95652174, 1.        , 0.95652174,\n",
       "        0.95652174, 1.        , 1.        , 1.        , 0.95652174,\n",
       "        0.95652174, 0.95652174, 0.95652174, 0.95652174, 0.95652174,\n",
       "        1.        , 0.95652174, 0.95652174, 0.95652174, 0.91304348,\n",
       "        0.91304348, 0.91304348, 0.95652174, 1.        , 0.91304348,\n",
       "        0.95652174, 0.95652174, 0.95652174, 1.        , 1.        ,\n",
       "        0.95652174, 1.        , 1.        , 0.91304348, 0.95652174,\n",
       "        0.91304348, 1.        , 0.95652174, 1.        , 0.95652174,\n",
       "        0.95652174, 0.95652174, 0.95652174, 1.        , 0.95652174,\n",
       "        1.        , 0.95652174, 1.        , 0.95652174, 0.95652174,\n",
       "        0.95652174, 0.95652174, 0.91304348, 0.95652174, 0.91304348,\n",
       "        0.95652174, 0.91304348, 0.95652174, 0.95652174, 1.        ,\n",
       "        1.        , 0.95652174, 0.91304348, 0.91304348, 0.95652174,\n",
       "        0.95652174, 0.95652174, 0.91304348, 0.95652174, 0.91304348,\n",
       "        1.        , 0.91304348, 0.95652174, 0.95652174, 0.95652174,\n",
       "        0.91304348, 1.        , 0.95652174, 0.95652174, 0.95652174]),\n",
       " 'split2_test_score': array([0.86363636, 0.81818182, 0.86363636, 0.81818182, 0.81818182,\n",
       "        0.81818182, 0.81818182, 0.81818182, 0.81818182, 0.81818182,\n",
       "        0.81818182, 0.86363636, 0.81818182, 0.81818182, 0.86363636,\n",
       "        0.81818182, 0.81818182, 0.81818182, 0.81818182, 0.81818182,\n",
       "        0.86363636, 0.77272727, 0.81818182, 0.86363636, 0.81818182,\n",
       "        0.81818182, 0.86363636, 0.86363636, 0.81818182, 0.81818182,\n",
       "        0.81818182, 0.77272727, 0.86363636, 0.86363636, 0.81818182,\n",
       "        0.81818182, 0.81818182, 0.81818182, 0.81818182, 0.86363636,\n",
       "        0.81818182, 0.81818182, 0.81818182, 0.86363636, 0.81818182,\n",
       "        0.77272727, 0.81818182, 0.81818182, 0.86363636, 0.81818182,\n",
       "        0.81818182, 0.81818182, 0.81818182, 0.81818182, 0.81818182,\n",
       "        0.81818182, 0.81818182, 0.81818182, 0.81818182, 0.81818182,\n",
       "        0.81818182, 0.86363636, 0.86363636, 0.81818182, 0.81818182,\n",
       "        0.81818182, 0.86363636, 0.81818182, 0.81818182, 0.81818182,\n",
       "        0.81818182, 0.81818182, 0.77272727, 0.81818182, 0.77272727,\n",
       "        0.81818182, 0.81818182, 0.81818182, 0.81818182, 0.81818182,\n",
       "        0.86363636, 0.81818182, 0.81818182, 0.81818182, 0.81818182,\n",
       "        0.81818182, 0.86363636, 0.81818182, 0.81818182, 0.81818182,\n",
       "        0.81818182, 0.81818182, 0.81818182, 0.81818182, 0.81818182,\n",
       "        0.81818182, 0.81818182, 0.81818182, 0.81818182, 0.81818182,\n",
       "        0.81818182, 0.81818182, 0.81818182, 0.77272727, 0.81818182,\n",
       "        0.81818182, 0.81818182, 0.81818182, 0.81818182, 0.81818182,\n",
       "        0.81818182, 0.81818182, 0.81818182, 0.81818182, 0.86363636,\n",
       "        0.81818182, 0.81818182, 0.86363636, 0.81818182, 0.81818182,\n",
       "        0.86363636, 0.81818182, 0.81818182, 0.81818182, 0.81818182,\n",
       "        0.81818182, 0.81818182, 0.81818182, 0.81818182, 0.81818182,\n",
       "        0.81818182, 0.81818182, 0.86363636, 0.81818182, 0.86363636,\n",
       "        0.81818182, 0.81818182, 0.81818182, 0.81818182, 0.81818182,\n",
       "        0.81818182, 0.81818182, 0.81818182, 0.81818182, 0.81818182,\n",
       "        0.81818182, 0.86363636, 0.81818182, 0.81818182, 0.81818182,\n",
       "        0.81818182, 0.81818182, 0.86363636, 0.81818182, 0.81818182,\n",
       "        0.81818182, 0.81818182, 0.81818182, 0.81818182, 0.81818182,\n",
       "        0.81818182, 0.86363636, 0.77272727, 0.86363636, 0.81818182,\n",
       "        0.81818182, 0.81818182, 0.81818182, 0.86363636, 0.81818182,\n",
       "        0.81818182, 0.81818182, 0.81818182, 0.81818182, 0.81818182,\n",
       "        0.81818182, 0.81818182, 0.77272727, 0.81818182, 0.77272727,\n",
       "        0.77272727, 0.81818182, 0.86363636, 0.86363636, 0.81818182,\n",
       "        0.86363636, 0.81818182, 0.86363636, 0.81818182, 0.81818182]),\n",
       " 'split3_test_score': array([0.68181818, 1.        , 0.81818182, 0.95454545, 0.95454545,\n",
       "        0.95454545, 0.95454545, 1.        , 1.        , 0.95454545,\n",
       "        1.        , 1.        , 1.        , 0.95454545, 1.        ,\n",
       "        1.        , 1.        , 1.        , 0.95454545, 1.        ,\n",
       "        1.        , 0.95454545, 1.        , 1.        , 1.        ,\n",
       "        1.        , 1.        , 0.95454545, 1.        , 1.        ,\n",
       "        1.        , 1.        , 1.        , 1.        , 1.        ,\n",
       "        1.        , 1.        , 1.        , 1.        , 1.        ,\n",
       "        0.95454545, 1.        , 1.        , 1.        , 1.        ,\n",
       "        1.        , 1.        , 1.        , 1.        , 1.        ,\n",
       "        1.        , 1.        , 1.        , 0.95454545, 1.        ,\n",
       "        1.        , 1.        , 1.        , 0.95454545, 1.        ,\n",
       "        1.        , 1.        , 0.95454545, 1.        , 1.        ,\n",
       "        1.        , 1.        , 1.        , 1.        , 1.        ,\n",
       "        0.95454545, 1.        , 0.95454545, 1.        , 1.        ,\n",
       "        1.        , 1.        , 1.        , 1.        , 1.        ,\n",
       "        0.95454545, 1.        , 1.        , 1.        , 1.        ,\n",
       "        1.        , 1.        , 1.        , 1.        , 1.        ,\n",
       "        1.        , 0.95454545, 1.        , 1.        , 1.        ,\n",
       "        1.        , 1.        , 0.95454545, 1.        , 1.        ,\n",
       "        1.        , 1.        , 0.95454545, 1.        , 1.        ,\n",
       "        1.        , 1.        , 1.        , 1.        , 1.        ,\n",
       "        0.95454545, 0.95454545, 1.        , 1.        , 1.        ,\n",
       "        0.95454545, 1.        , 1.        , 0.95454545, 1.        ,\n",
       "        0.95454545, 0.95454545, 1.        , 1.        , 1.        ,\n",
       "        1.        , 1.        , 1.        , 1.        , 0.95454545,\n",
       "        0.95454545, 1.        , 1.        , 1.        , 1.        ,\n",
       "        1.        , 1.        , 0.95454545, 1.        , 1.        ,\n",
       "        1.        , 1.        , 1.        , 1.        , 1.        ,\n",
       "        1.        , 1.        , 1.        , 1.        , 1.        ,\n",
       "        0.95454545, 0.95454545, 1.        , 1.        , 1.        ,\n",
       "        1.        , 1.        , 1.        , 1.        , 1.        ,\n",
       "        1.        , 0.95454545, 0.95454545, 1.        , 1.        ,\n",
       "        1.        , 1.        , 1.        , 1.        , 1.        ,\n",
       "        1.        , 0.95454545, 1.        , 1.        , 1.        ,\n",
       "        1.        , 1.        , 1.        , 1.        , 0.95454545,\n",
       "        0.95454545, 0.95454545, 1.        , 0.95454545, 0.95454545,\n",
       "        1.        , 1.        , 1.        , 1.        , 1.        ]),\n",
       " 'split4_test_score': array([1.        , 0.90909091, 0.95454545, 0.95454545, 0.90909091,\n",
       "        0.90909091, 0.90909091, 0.90909091, 0.90909091, 0.90909091,\n",
       "        0.95454545, 0.90909091, 0.95454545, 0.95454545, 0.90909091,\n",
       "        0.90909091, 0.90909091, 0.95454545, 0.95454545, 0.95454545,\n",
       "        0.95454545, 0.95454545, 0.95454545, 0.95454545, 0.95454545,\n",
       "        0.95454545, 0.95454545, 0.95454545, 0.95454545, 0.95454545,\n",
       "        0.95454545, 0.95454545, 0.95454545, 0.95454545, 0.95454545,\n",
       "        0.95454545, 0.95454545, 0.95454545, 0.95454545, 0.95454545,\n",
       "        0.95454545, 0.95454545, 0.95454545, 0.95454545, 0.95454545,\n",
       "        0.95454545, 0.95454545, 0.95454545, 0.95454545, 0.95454545,\n",
       "        0.95454545, 0.95454545, 0.95454545, 0.95454545, 0.95454545,\n",
       "        0.95454545, 0.95454545, 0.95454545, 0.95454545, 0.95454545,\n",
       "        0.95454545, 0.95454545, 0.95454545, 0.95454545, 0.95454545,\n",
       "        0.95454545, 0.95454545, 0.95454545, 0.95454545, 0.95454545,\n",
       "        0.95454545, 0.95454545, 0.95454545, 0.95454545, 0.95454545,\n",
       "        0.95454545, 0.95454545, 0.95454545, 0.95454545, 0.95454545,\n",
       "        0.95454545, 0.95454545, 0.95454545, 0.95454545, 0.95454545,\n",
       "        0.95454545, 0.95454545, 0.95454545, 0.95454545, 0.95454545,\n",
       "        0.90909091, 0.95454545, 0.95454545, 0.95454545, 0.95454545,\n",
       "        0.95454545, 0.95454545, 0.95454545, 0.95454545, 0.95454545,\n",
       "        0.95454545, 0.95454545, 0.95454545, 0.95454545, 0.95454545,\n",
       "        0.95454545, 0.95454545, 0.95454545, 0.95454545, 0.95454545,\n",
       "        0.95454545, 0.95454545, 0.95454545, 0.95454545, 0.95454545,\n",
       "        0.95454545, 0.95454545, 0.95454545, 0.95454545, 0.95454545,\n",
       "        0.95454545, 0.95454545, 0.95454545, 0.95454545, 0.95454545,\n",
       "        0.95454545, 0.95454545, 0.95454545, 0.95454545, 0.95454545,\n",
       "        0.95454545, 0.95454545, 0.95454545, 0.95454545, 0.95454545,\n",
       "        0.95454545, 0.95454545, 0.95454545, 0.95454545, 0.95454545,\n",
       "        0.95454545, 0.95454545, 0.95454545, 0.95454545, 0.95454545,\n",
       "        0.95454545, 0.95454545, 0.95454545, 0.95454545, 0.95454545,\n",
       "        0.95454545, 0.95454545, 0.95454545, 0.95454545, 0.95454545,\n",
       "        0.95454545, 0.95454545, 0.95454545, 0.95454545, 0.95454545,\n",
       "        0.95454545, 0.95454545, 0.95454545, 0.95454545, 0.95454545,\n",
       "        0.95454545, 0.95454545, 0.95454545, 0.95454545, 0.95454545,\n",
       "        0.95454545, 0.95454545, 0.95454545, 0.95454545, 0.95454545,\n",
       "        0.95454545, 0.95454545, 0.95454545, 0.95454545, 0.95454545,\n",
       "        0.95454545, 0.95454545, 0.95454545, 0.95454545, 0.95454545,\n",
       "        0.95454545, 0.95454545, 0.95454545, 0.95454545, 0.95454545]),\n",
       " 'std_fit_time': array([0.00222227, 0.00206724, 0.00190999, 0.00456582, 0.00366633,\n",
       "        0.00604797, 0.00314192, 0.00546149, 0.00315369, 0.00514588,\n",
       "        0.00025977, 0.00050179, 0.00184684, 0.00570098, 0.0013209 ,\n",
       "        0.00254618, 0.00171423, 0.00176147, 0.00512004, 0.00547324,\n",
       "        0.00197964, 0.00151913, 0.0010216 , 0.00130029, 0.00486968,\n",
       "        0.00079666, 0.00610511, 0.00580782, 0.00273056, 0.0044153 ,\n",
       "        0.00016829, 0.0005232 , 0.00395453, 0.00230328, 0.00209086,\n",
       "        0.01090772, 0.00320481, 0.00236608, 0.00360229, 0.00535967,\n",
       "        0.00186384, 0.00068782, 0.0016575 , 0.00281604, 0.00372717,\n",
       "        0.00134251, 0.00279137, 0.00422182, 0.00494759, 0.00987193,\n",
       "        0.00013828, 0.000879  , 0.00439238, 0.00079697, 0.0005789 ,\n",
       "        0.00458349, 0.00107523, 0.01016359, 0.00496354, 0.00667403,\n",
       "        0.00071726, 0.00119743, 0.00060293, 0.00132253, 0.00620111,\n",
       "        0.00055175, 0.00294475, 0.00412082, 0.00117227, 0.0056975 ,\n",
       "        0.00044317, 0.000357  , 0.0026461 , 0.00122901, 0.00113082,\n",
       "        0.00343434, 0.00332208, 0.00234851, 0.00786587, 0.00738049,\n",
       "        0.00275742, 0.00095343, 0.00146449, 0.00125405, 0.00134818,\n",
       "        0.00243687, 0.00255831, 0.00243495, 0.0056518 , 0.00386017,\n",
       "        0.00053376, 0.0019487 , 0.00067928, 0.00221763, 0.00275377,\n",
       "        0.00548388, 0.00174313, 0.00660633, 0.00303895, 0.00536933,\n",
       "        0.00232832, 0.00685883, 0.00165919, 0.00334377, 0.00273634,\n",
       "        0.00112169, 0.00448758, 0.00556814, 0.00743638, 0.00242785,\n",
       "        0.00264562, 0.00042254, 0.00116393, 0.0041095 , 0.00179091,\n",
       "        0.00123105, 0.00598048, 0.0026261 , 0.00455972, 0.00463959,\n",
       "        0.00162555, 0.0009434 , 0.00103012, 0.00296524, 0.00525208,\n",
       "        0.00380004, 0.00265037, 0.00309298, 0.00639382, 0.00722368,\n",
       "        0.00175186, 0.00142503, 0.00179853, 0.00267714, 0.00178615,\n",
       "        0.00217415, 0.00475406, 0.00460143, 0.00522079, 0.00507194,\n",
       "        0.00044537, 0.0022513 , 0.00099058, 0.00249994, 0.00110653,\n",
       "        0.00309041, 0.01029417, 0.00518023, 0.00492555, 0.00270393,\n",
       "        0.00043247, 0.00238524, 0.00083228, 0.00130386, 0.00334433,\n",
       "        0.00139848, 0.00359988, 0.00282175, 0.0047042 , 0.00340228,\n",
       "        0.00155305, 0.00250603, 0.00102962, 0.0027234 , 0.00263023,\n",
       "        0.0030856 , 0.00262468, 0.0095005 , 0.00395956, 0.0025385 ,\n",
       "        0.00026184, 0.00308348, 0.0004488 , 0.00138436, 0.00328943,\n",
       "        0.00206524, 0.00412988, 0.00355153, 0.00316201, 0.00605638,\n",
       "        0.00027055, 0.00042112, 0.00123275, 0.00464715, 0.00261177,\n",
       "        0.00442407, 0.00205825, 0.00403736, 0.01706096, 0.00233603]),\n",
       " 'std_score_time': array([4.90799882e-04, 6.46865415e-05, 4.47894100e-04, 2.94657331e-04,\n",
       "        1.54011139e-04, 8.56377879e-04, 1.12876862e-03, 2.56951239e-03,\n",
       "        8.81566131e-04, 1.73827328e-03, 3.51013691e-05, 3.27991184e-05,\n",
       "        9.45175689e-05, 7.20975711e-04, 1.20982862e-03, 3.59489365e-04,\n",
       "        5.94062173e-05, 1.60095697e-03, 1.70053622e-04, 1.98606678e-04,\n",
       "        9.70248473e-04, 1.03369234e-05, 4.81210206e-05, 1.66676569e-03,\n",
       "        4.85341341e-04, 6.20357875e-04, 5.02232141e-04, 7.90737704e-04,\n",
       "        1.93746396e-04, 7.17158403e-04, 1.19217586e-04, 5.14919224e-05,\n",
       "        1.89776193e-04, 8.77493815e-04, 7.37215969e-04, 2.47465466e-04,\n",
       "        1.57375788e-03, 5.36582602e-04, 1.90142247e-03, 5.52992569e-04,\n",
       "        3.39971852e-05, 3.32052635e-05, 2.57806233e-04, 6.19049605e-05,\n",
       "        1.21336366e-04, 3.38163466e-04, 5.01516731e-04, 2.08682962e-03,\n",
       "        1.89824085e-03, 2.61408985e-03, 6.91074091e-05, 8.46467753e-05,\n",
       "        5.13774281e-05, 1.23322535e-04, 1.13506313e-03, 1.68922430e-03,\n",
       "        3.82763950e-04, 3.02573670e-03, 4.22269270e-03, 1.48002096e-04,\n",
       "        2.59872314e-05, 4.81271156e-05, 5.81644394e-05, 4.75654566e-05,\n",
       "        2.30906426e-03, 3.27029441e-04, 1.63869869e-03, 1.73055291e-03,\n",
       "        3.53819874e-04, 5.24473088e-04, 1.33179602e-04, 3.68914829e-05,\n",
       "        1.80456035e-04, 3.08547173e-05, 1.85969524e-04, 1.76529345e-03,\n",
       "        2.82490704e-04, 2.12936618e-04, 1.83208266e-03, 1.69394967e-03,\n",
       "        2.85282311e-04, 6.22800077e-05, 3.21209891e-04, 9.98413962e-04,\n",
       "        7.57089464e-04, 9.06102542e-04, 7.45019318e-04, 1.02074832e-03,\n",
       "        1.82130009e-03, 3.75373449e-04, 3.63624818e-04, 1.86114338e-04,\n",
       "        5.08409046e-05, 6.18344733e-05, 2.47173940e-04, 4.70946717e-04,\n",
       "        3.77606030e-04, 1.05813538e-03, 1.48939356e-03, 2.78747043e-03,\n",
       "        6.10458469e-05, 4.05347671e-04, 2.39557483e-04, 1.00771381e-03,\n",
       "        3.65870368e-04, 8.79040195e-04, 2.44291462e-03, 9.07366105e-04,\n",
       "        1.64095082e-04, 3.33962905e-04, 2.43821737e-04, 1.00676029e-03,\n",
       "        7.19554382e-05, 1.51965167e-04, 1.90331668e-03, 2.09470141e-03,\n",
       "        9.23304507e-05, 1.04620908e-03, 2.17807756e-03, 2.87027029e-03,\n",
       "        5.03161398e-04, 2.59961517e-04, 2.86068660e-04, 2.42054039e-04,\n",
       "        1.90939966e-03, 2.85174957e-04, 1.02440789e-03, 4.91993028e-04,\n",
       "        1.15412538e-03, 2.65358859e-03, 1.02248720e-04, 1.94337240e-04,\n",
       "        1.16092500e-03, 5.68298258e-04, 1.67801021e-03, 3.04351207e-04,\n",
       "        2.01577820e-04, 5.85284570e-04, 2.26685330e-03, 2.81057080e-03,\n",
       "        1.88182345e-04, 5.36086007e-04, 7.44867742e-04, 2.26923422e-04,\n",
       "        1.18836133e-03, 5.02307840e-04, 6.04826172e-04, 1.87694803e-03,\n",
       "        2.78086326e-03, 1.91675467e-03, 6.78980617e-05, 1.06761550e-04,\n",
       "        4.32177591e-05, 5.77292760e-04, 4.64034776e-04, 3.62085586e-04,\n",
       "        2.38512996e-03, 1.59513185e-03, 2.42327300e-03, 1.27658608e-03,\n",
       "        9.55209212e-05, 4.06977093e-05, 1.37031551e-04, 1.11737156e-03,\n",
       "        1.90705452e-04, 1.50141143e-04, 1.99986812e-04, 3.26639335e-03,\n",
       "        1.26063622e-03, 4.84452003e-05, 5.11890852e-05, 8.55000440e-04,\n",
       "        2.71428720e-04, 5.10058900e-04, 1.58010057e-03, 1.09323225e-03,\n",
       "        7.82191152e-05, 2.56822315e-04, 2.82220954e-03, 3.38983098e-03,\n",
       "        3.06812769e-04, 1.68961741e-04, 7.97692272e-05, 8.95312442e-04,\n",
       "        1.93696102e-04, 5.36176595e-04, 4.48729928e-04, 3.32619779e-03,\n",
       "        1.17970649e-03, 1.96377583e-03]),\n",
       " 'std_test_score': array([0.13943441, 0.08188594, 0.06702373, 0.05494782, 0.06183718,\n",
       "        0.06803013, 0.06183718, 0.06814027, 0.07272727, 0.06803013,\n",
       "        0.06189779, 0.05308228, 0.06189779, 0.05494782, 0.0466738 ,\n",
       "        0.06814027, 0.06201378, 0.0668627 , 0.05494782, 0.06189779,\n",
       "        0.04470773, 0.08430562, 0.0668627 , 0.04979923, 0.0668627 ,\n",
       "        0.0668627 , 0.04979923, 0.03676952, 0.0668627 , 0.06189779,\n",
       "        0.06161953, 0.07953017, 0.04470773, 0.04470773, 0.0668627 ,\n",
       "        0.0668627 , 0.06189779, 0.06189779, 0.0668627 , 0.04470773,\n",
       "        0.05494782, 0.0668627 , 0.06189779, 0.04607075, 0.0668627 ,\n",
       "        0.07953017, 0.06189779, 0.06189779, 0.04470773, 0.0668627 ,\n",
       "        0.06161953, 0.0668627 , 0.0668627 , 0.05494782, 0.06189779,\n",
       "        0.06189779, 0.06189779, 0.06189779, 0.05494782, 0.06189779,\n",
       "        0.06189779, 0.04470773, 0.03676952, 0.06189779, 0.0668627 ,\n",
       "        0.0668627 , 0.05300865, 0.06161953, 0.06161953, 0.06189779,\n",
       "        0.05494782, 0.0668627 , 0.07312787, 0.0668627 , 0.08439453,\n",
       "        0.0668627 , 0.06189779, 0.06161953, 0.06189779, 0.0668627 ,\n",
       "        0.03629914, 0.06189779, 0.06161953, 0.06161953, 0.06161953,\n",
       "        0.06189779, 0.04470773, 0.06189779, 0.06161953, 0.0668627 ,\n",
       "        0.06201378, 0.06680427, 0.06189779, 0.06161953, 0.0668627 ,\n",
       "        0.0668627 , 0.06161953, 0.06177905, 0.06189779, 0.06189779,\n",
       "        0.06161953, 0.06189779, 0.05316757, 0.07831076, 0.0668627 ,\n",
       "        0.06161953, 0.0668627 , 0.06189779, 0.0668627 , 0.06189779,\n",
       "        0.06177905, 0.05316757, 0.0668627 , 0.0668627 , 0.04470773,\n",
       "        0.05494782, 0.0668627 , 0.04979923, 0.06177905, 0.06189779,\n",
       "        0.03676952, 0.05494782, 0.06189779, 0.06189779, 0.0668627 ,\n",
       "        0.0668627 , 0.06189779, 0.06189779, 0.06189779, 0.05316757,\n",
       "        0.05316757, 0.06161953, 0.04470773, 0.0668627 , 0.04607075,\n",
       "        0.06189779, 0.06189779, 0.05494782, 0.0668627 , 0.0668627 ,\n",
       "        0.0668627 , 0.0668627 , 0.0668627 , 0.06161953, 0.06189779,\n",
       "        0.06773094, 0.04979923, 0.06189779, 0.0668627 , 0.06189779,\n",
       "        0.05494782, 0.05494782, 0.04470773, 0.0668627 , 0.06189779,\n",
       "        0.0668627 , 0.06189779, 0.0668627 , 0.06189779, 0.06189779,\n",
       "        0.06189779, 0.03676952, 0.07069024, 0.04470773, 0.06161953,\n",
       "        0.06189779, 0.06161953, 0.06189779, 0.04470773, 0.0668627 ,\n",
       "        0.0668627 , 0.05494782, 0.06161953, 0.06161953, 0.06189779,\n",
       "        0.06189779, 0.06189779, 0.07831076, 0.06189779, 0.07069024,\n",
       "        0.07939254, 0.06144434, 0.04470773, 0.03676952, 0.05494782,\n",
       "        0.04607075, 0.0668627 , 0.04470773, 0.06189779, 0.06189779])}"
      ]
     },
     "execution_count": 76,
     "metadata": {
      "tags": []
     },
     "output_type": "execute_result"
    }
   ],
   "source": [
    "# details: cv_rsults\n",
    "grid_search.cv_results_"
   ]
  },
  {
   "cell_type": "markdown",
   "metadata": {
    "id": "9Ns_N9NCvIZs"
   },
   "source": [
    "### Manual Grid search"
   ]
  },
  {
   "cell_type": "code",
   "execution_count": null,
   "metadata": {
    "id": "GPnqOAY7vLDI"
   },
   "outputs": [],
   "source": [
    "from sklearn.datasets import load_breast_cancer\n",
    "X, y = load_breast_cancer(return_X_y=True)"
   ]
  },
  {
   "cell_type": "code",
   "execution_count": null,
   "metadata": {
    "id": "uSHNHgHjvje4"
   },
   "outputs": [],
   "source": [
    "from sklearn.model_selection import train_test_split\n",
    "X_train_val, X_test, y_train_val, y_test = train_test_split(X, y, random_state=0)\n",
    "X_train, X_val, y_train, y_val = train_test_split(X_train_val, y_train_val, random_state=0)"
   ]
  },
  {
   "cell_type": "code",
   "execution_count": null,
   "metadata": {
    "colab": {
     "base_uri": "https://localhost:8080/"
    },
    "id": "H_B0IvNswU01",
    "outputId": "14919076-e74c-4a1a-faf1-eaf05428e57e"
   },
   "outputs": [
    {
     "name": "stdout",
     "output_type": "stream",
     "text": [
      "Best Parameter: n_neighbors=5\n",
      "Best Validation Score = 1 \n",
      "Test score of best model is: 0.94\n"
     ]
    }
   ],
   "source": [
    "from sklearn.neighbors import KNeighborsClassifier\n",
    "neighbor_list = range(1,22,2)\n",
    "\n",
    "best_val_score = 0\n",
    "best_param = None\n",
    "\n",
    "for nn in neighbor_list:\n",
    "  knn = KNeighborsClassifier(n_neighbors=nn)\n",
    "  knn.fit(X_train, y_train)\n",
    "  val_score = knn.score(X_val, y_val)\n",
    "\n",
    "  if val_score > best_val_score :\n",
    "    best_val_score = val_score\n",
    "    best_param = nn\n",
    "\n",
    "print(f'Best Parameter: n_neighbors={best_param}')\n",
    "print(f'Best Validation Score = {round(best_val_score)} ')\n",
    "\n",
    "knn = KNeighborsClassifier(n_neighbors=best_param)\n",
    "knn.fit(X_train_val, y_train_val)\n",
    "test_score = knn.score(X_test, y_test)\n",
    "\n",
    "print(f'Test score of best model is: {round(test_score,2)}')"
   ]
  },
  {
   "cell_type": "code",
   "execution_count": null,
   "metadata": {
    "id": "q5hsiUX2zERb"
   },
   "outputs": [],
   "source": []
  }
 ],
 "metadata": {
  "colab": {
   "provenance": []
  },
  "kernelspec": {
   "display_name": "Python 3 (ipykernel)",
   "language": "python",
   "name": "python3"
  },
  "language_info": {
   "codemirror_mode": {
    "name": "ipython",
    "version": 3
   },
   "file_extension": ".py",
   "mimetype": "text/x-python",
   "name": "python",
   "nbconvert_exporter": "python",
   "pygments_lexer": "ipython3",
   "version": "3.11.7"
  }
 },
 "nbformat": 4,
 "nbformat_minor": 4
}
