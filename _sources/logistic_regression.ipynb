{
 "cells": [
  {
   "cell_type": "markdown",
   "id": "31f4554c-7220-4cc7-b79a-9b21dbc55e43",
   "metadata": {},
   "source": [
    "# Logistic Regression\n",
    "![](title_pict/logistic_regression2.png)\n",
    "\n",
    "Despite its name, Logistic Regression is used for classification tasks.\n",
    "- It is conceptually similar to linear regression.\n",
    "- The model calculates the probabilities of each class, and the predicted class is determined by the one with the highest probability."
   ]
  },
  {
   "cell_type": "markdown",
   "id": "7c92eaa2-7222-4efa-9ccf-837271ea72b0",
   "metadata": {},
   "source": [
    "## Theory\n",
    "- Sigmoid function $\\displaystyle \\sigma(z) = \\frac{1}{1+e^{-z}}$\n",
    "    - Its range is between 0 and 1. "
   ]
  },
  {
   "cell_type": "code",
   "execution_count": 17,
   "id": "61a58975-8e71-4673-bda5-a2cb4acadefd",
   "metadata": {},
   "outputs": [
    {
     "data": {
      "text/plain": [
       "0.5"
      ]
     },
     "execution_count": 17,
     "metadata": {},
     "output_type": "execute_result"
    }
   ],
   "source": [
    "import math\n",
    "\n",
    "def sigmoid(z):\n",
    "    return 1/(1+math.e**(-z))\n",
    "\n",
    "sigmoid(0)"
   ]
  },
  {
   "cell_type": "code",
   "execution_count": 26,
   "id": "c3af480a-2a7d-4818-abc7-feba729d8f8e",
   "metadata": {},
   "outputs": [
    {
     "data": {
      "image/png": "[encoded data removed]",
      "text/plain": [
       "<Figure size 640x480 with 1 Axes>"
      ]
     },
     "metadata": {},
     "output_type": "display_data"
    }
   ],
   "source": [
    "import matplotlib.pyplot as plt\n",
    "import numpy as np\n",
    "x_values = np.linspace(-10, 10, 1000)\n",
    "y_values = sigmoid(x_values)\n",
    "\n",
    "plt.plot(x_values, y_values)\n",
    "plt.vlines(0, 0, 1, color='red')\n",
    "plt.hlines(0, -10, 10, color='red')\n",
    "plt.plot(x_values, y_values, c='navy');"
   ]
  },
  {
   "cell_type": "markdown",
   "id": "62836375-b6ad-4f2c-9d56-b2afb381e205",
   "metadata": {},
   "source": [
    "- Assume there are \\( n \\) features, represented by the variables: \\( x_1, x_2, \\dots, x_n \\).\n",
    "\n",
    "- The logistic regression algorithm uses the following function to make predictions:\n",
    " \n",
    "    - $\\hat{p} = \\sigma(w_1x_1+w_2x_2+w_3x_3+...+w_nx_n+b) $\n",
    "\n",
    "    - $\\hat{y} = \\begin{cases}\n",
    "  1 & \\mbox{ if $ \\hat{p}>0.5 $}\\\\\n",
    "  0 & \\mbox{ if $ \\hat{p}\\le 0.5 $}\\\\\n",
    "  \\end{cases}$\n",
    "\n",
    "where \n",
    "\n",
    "    - $\\hat{p}$ is the predicted probability value\n",
    "    - $\\hat{y}$ is the predicted class value\n",
    "    - $w_1, w_2,..., w_n$ are coefficients(weights)\n",
    "    - $b$ is he intercept (bias).\n",
    "\n",
    "- The logistic regression algorithm determines the coefficients and the intercept by fitting the model to the training set.\n",
    "\n",
    "- Since $\\hat{p}$ falls between 0 and 1, it represents the probability of the sample belonging to each class."
   ]
  },
  {
   "cell_type": "markdown",
   "id": "e32bf634-4f7a-47ce-96df-6873baef8294",
   "metadata": {},
   "source": [
    "## Coding"
   ]
  },
  {
   "cell_type": "code",
   "execution_count": 27,
   "id": "71be65cd-868a-464b-8d90-d34db4784770",
   "metadata": {},
   "outputs": [],
   "source": [
    "from sklearn.datasets import load_breast_cancer\n",
    "X, y = load_breast_cancer(return_X_y=True)"
   ]
  },
  {
   "cell_type": "code",
   "execution_count": 28,
   "id": "6161f644-a812-4816-9697-a00d761d7bab",
   "metadata": {},
   "outputs": [],
   "source": [
    "from sklearn.model_selection import train_test_split\n",
    "X_train, X_test, y_train, y_test = train_test_split(X, y, random_state=0)"
   ]
  },
  {
   "cell_type": "code",
   "execution_count": 29,
   "id": "c0d7004a-1270-4a63-920d-3984a86cafe6",
   "metadata": {},
   "outputs": [],
   "source": [
    "from sklearn.linear_model import LogisticRegression\n",
    "logistic_reg = LogisticRegression(max_iter=2000)"
   ]
  },
  {
   "cell_type": "code",
   "execution_count": 30,
   "id": "7d047b4e-5566-4a66-80e7-7eb0073db14d",
   "metadata": {},
   "outputs": [
    {
     "data": {
      "text/html": [
       "<style>#sk-container-id-4 {color: black;background-color: white;}#sk-container-id-4 pre{padding: 0;}#sk-container-id-4 div.sk-toggleable {background-color: white;}#sk-container-id-4 label.sk-toggleable__label {cursor: pointer;display: block;width: 100%;margin-bottom: 0;padding: 0.3em;box-sizing: border-box;text-align: center;}#sk-container-id-4 label.sk-toggleable__label-arrow:before {content: \"▸\";float: left;margin-right: 0.25em;color: #696969;}#sk-container-id-4 label.sk-toggleable__label-arrow:hover:before {color: black;}#sk-container-id-4 div.sk-estimator:hover label.sk-toggleable__label-arrow:before {color: black;}#sk-container-id-4 div.sk-toggleable__content {max-height: 0;max-width: 0;overflow: hidden;text-align: left;background-color: #f0f8ff;}#sk-container-id-4 div.sk-toggleable__content pre {margin: 0.2em;color: black;border-radius: 0.25em;background-color: #f0f8ff;}#sk-container-id-4 input.sk-toggleable__control:checked~div.sk-toggleable__content {max-height: 200px;max-width: 100%;overflow: auto;}#sk-container-id-4 input.sk-toggleable__control:checked~label.sk-toggleable__label-arrow:before {content: \"▾\";}#sk-container-id-4 div.sk-estimator input.sk-toggleable__control:checked~label.sk-toggleable__label {background-color: #d4ebff;}#sk-container-id-4 div.sk-label input.sk-toggleable__control:checked~label.sk-toggleable__label {background-color: #d4ebff;}#sk-container-id-4 input.sk-hidden--visually {border: 0;clip: rect(1px 1px 1px 1px);clip: rect(1px, 1px, 1px, 1px);height: 1px;margin: -1px;overflow: hidden;padding: 0;position: absolute;width: 1px;}#sk-container-id-4 div.sk-estimator {font-family: monospace;background-color: #f0f8ff;border: 1px dotted black;border-radius: 0.25em;box-sizing: border-box;margin-bottom: 0.5em;}#sk-container-id-4 div.sk-estimator:hover {background-color: #d4ebff;}#sk-container-id-4 div.sk-parallel-item::after {content: \"\";width: 100%;border-bottom: 1px solid gray;flex-grow: 1;}#sk-container-id-4 div.sk-label:hover label.sk-toggleable__label {background-color: #d4ebff;}#sk-container-id-4 div.sk-serial::before {content: \"\";position: absolute;border-left: 1px solid gray;box-sizing: border-box;top: 0;bottom: 0;left: 50%;z-index: 0;}#sk-container-id-4 div.sk-serial {display: flex;flex-direction: column;align-items: center;background-color: white;padding-right: 0.2em;padding-left: 0.2em;position: relative;}#sk-container-id-4 div.sk-item {position: relative;z-index: 1;}#sk-container-id-4 div.sk-parallel {display: flex;align-items: stretch;justify-content: center;background-color: white;position: relative;}#sk-container-id-4 div.sk-item::before, #sk-container-id-4 div.sk-parallel-item::before {content: \"\";position: absolute;border-left: 1px solid gray;box-sizing: border-box;top: 0;bottom: 0;left: 50%;z-index: -1;}#sk-container-id-4 div.sk-parallel-item {display: flex;flex-direction: column;z-index: 1;position: relative;background-color: white;}#sk-container-id-4 div.sk-parallel-item:first-child::after {align-self: flex-end;width: 50%;}#sk-container-id-4 div.sk-parallel-item:last-child::after {align-self: flex-start;width: 50%;}#sk-container-id-4 div.sk-parallel-item:only-child::after {width: 0;}#sk-container-id-4 div.sk-dashed-wrapped {border: 1px dashed gray;margin: 0 0.4em 0.5em 0.4em;box-sizing: border-box;padding-bottom: 0.4em;background-color: white;}#sk-container-id-4 div.sk-label label {font-family: monospace;font-weight: bold;display: inline-block;line-height: 1.2em;}#sk-container-id-4 div.sk-label-container {text-align: center;}#sk-container-id-4 div.sk-container {/* jupyter's `normalize.less` sets `[hidden] { display: none; }` but bootstrap.min.css set `[hidden] { display: none !important; }` so we also need the `!important` here to be able to override the default hidden behavior on the sphinx rendered scikit-learn.org. See: https://github.com/scikit-learn/scikit-learn/issues/21755 */display: inline-block !important;position: relative;}#sk-container-id-4 div.sk-text-repr-fallback {display: none;}</style><div id=\"sk-container-id-4\" class=\"sk-top-container\"><div class=\"sk-text-repr-fallback\"><pre>LogisticRegression(max_iter=2000)</pre><b>In a Jupyter environment, please rerun this cell to show the HTML representation or trust the notebook. <br />On GitHub, the HTML representation is unable to render, please try loading this page with nbviewer.org.</b></div><div class=\"sk-container\" hidden><div class=\"sk-item\"><div class=\"sk-estimator sk-toggleable\"><input class=\"sk-toggleable__control sk-hidden--visually\" id=\"sk-estimator-id-4\" type=\"checkbox\" checked><label for=\"sk-estimator-id-4\" class=\"sk-toggleable__label sk-toggleable__label-arrow\">LogisticRegression</label><div class=\"sk-toggleable__content\"><pre>LogisticRegression(max_iter=2000)</pre></div></div></div></div></div>"
      ],
      "text/plain": [
       "LogisticRegression(max_iter=2000)"
      ]
     },
     "execution_count": 30,
     "metadata": {},
     "output_type": "execute_result"
    }
   ],
   "source": [
    "logistic_reg.fit(X_train, y_train)"
   ]
  },
  {
   "cell_type": "code",
   "execution_count": 31,
   "id": "810f2676-aa83-46ed-bc24-e1e895d10a20",
   "metadata": {},
   "outputs": [
    {
     "data": {
      "text/plain": [
       "0.960093896713615"
      ]
     },
     "execution_count": 31,
     "metadata": {},
     "output_type": "execute_result"
    }
   ],
   "source": [
    "logistic_reg.score(X_train, y_train)"
   ]
  },
  {
   "cell_type": "code",
   "execution_count": 32,
   "id": "5765eccf-dd0e-48e0-9853-0f7bb128b115",
   "metadata": {},
   "outputs": [
    {
     "data": {
      "text/plain": [
       "0.951048951048951"
      ]
     },
     "execution_count": 32,
     "metadata": {},
     "output_type": "execute_result"
    }
   ],
   "source": [
    "logistic_reg.score(X_test, y_test)"
   ]
  },
  {
   "cell_type": "code",
   "execution_count": 33,
   "id": "04ceac0a-e444-4532-8419-9c751ca40c83",
   "metadata": {},
   "outputs": [
    {
     "data": {
      "text/plain": [
       "array([0])"
      ]
     },
     "execution_count": 33,
     "metadata": {},
     "output_type": "execute_result"
    }
   ],
   "source": [
    "logistic_reg.predict(X_test[:1])"
   ]
  },
  {
   "cell_type": "code",
   "execution_count": 34,
   "id": "42fa2b62-106e-4717-95dc-dd744de58449",
   "metadata": {},
   "outputs": [
    {
     "data": {
      "text/plain": [
       "array([[0.99514497, 0.00485503]])"
      ]
     },
     "execution_count": 34,
     "metadata": {},
     "output_type": "execute_result"
    }
   ],
   "source": [
    "logistic_reg.predict_proba(X_test[:1])"
   ]
  },
  {
   "cell_type": "code",
   "execution_count": 35,
   "id": "75bbb5c6-e13f-4763-80fa-32cd40a31dd8",
   "metadata": {},
   "outputs": [
    {
     "data": {
      "text/plain": [
       "array([[ 0.67026668,  0.16251201, -0.14942285,  0.02143624, -0.14717256,\n",
       "        -0.17799775, -0.36376074, -0.20983585, -0.29870589, -0.02913508,\n",
       "        -0.03785796,  1.02137048, -0.00796109, -0.10939188, -0.01298952,\n",
       "         0.06027285, -0.0205928 , -0.02368041, -0.0330383 ,  0.01453483,\n",
       "         0.27202911, -0.39091618, -0.22507314, -0.01022486, -0.25942606,\n",
       "        -0.60652285, -1.17292476, -0.44907852, -0.65522894, -0.08759558]])"
      ]
     },
     "execution_count": 35,
     "metadata": {},
     "output_type": "execute_result"
    }
   ],
   "source": [
    "logistic_reg.coef_"
   ]
  },
  {
   "cell_type": "code",
   "execution_count": 36,
   "id": "3d7d0926-5c67-4b9c-ab15-c18831be81fb",
   "metadata": {},
   "outputs": [
    {
     "data": {
      "text/plain": [
       "(1, 30)"
      ]
     },
     "execution_count": 36,
     "metadata": {},
     "output_type": "execute_result"
    }
   ],
   "source": [
    "logistic_reg.coef_.shape"
   ]
  },
  {
   "cell_type": "code",
   "execution_count": 37,
   "id": "b7f73bb7-80e0-460e-8d9a-e9a49edb0f83",
   "metadata": {},
   "outputs": [
    {
     "data": {
      "text/plain": [
       "array([29.09751542])"
      ]
     },
     "execution_count": 37,
     "metadata": {},
     "output_type": "execute_result"
    }
   ],
   "source": [
    "logistic_reg.intercept_"
   ]
  },
  {
   "cell_type": "code",
   "execution_count": null,
   "id": "5c9a76bc-0a29-4686-b8e3-7d09770637de",
   "metadata": {},
   "outputs": [],
   "source": []
  }
 ],
 "metadata": {
  "kernelspec": {
   "display_name": "Python 3 (ipykernel)",
   "language": "python",
   "name": "python3"
  },
  "language_info": {
   "codemirror_mode": {
    "name": "ipython",
    "version": 3
   },
   "file_extension": ".py",
   "mimetype": "text/x-python",
   "name": "python",
   "nbconvert_exporter": "python",
   "pygments_lexer": "ipython3",
   "version": "3.11.7"
  }
 },
 "nbformat": 4,
 "nbformat_minor": 5
}
