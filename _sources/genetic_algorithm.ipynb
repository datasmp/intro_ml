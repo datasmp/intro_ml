{
 "cells": [
  {
   "cell_type": "markdown",
   "id": "244a0ff1-7734-4b91-b43f-54739c402680",
   "metadata": {},
   "source": [
    "# Genetic Algorithm\n",
    "A genetic algorithm is an optimization technique used to find the maximum or minimum of a function within a specified domain. \n",
    "In this section, we will first create a program that implements a genetic algorithm from scratch. \n",
    "Then, we will use the *geneticalgorithm* library to find the maximum or minimum of a function in a given domain."
   ]
  },
  {
   "cell_type": "markdown",
   "id": "d8c4f38f-c767-48fa-9526-389388b2eb3b",
   "metadata": {},
   "source": [
    "## Genetic Algorithm from Scratch"
   ]
  },
  {
   "cell_type": "markdown",
   "id": "f06a49bb-2f96-4112-8d9a-530d3bd262e6",
   "metadata": {},
   "source": [
    "### Optimization Problem\n",
    "The following question is from OpenStax Calculus-III, Example 4.40. \n",
    "Find the maximum value of the fiven function within the specified domain.\n",
    "$ f(x,y) = x^2-2xy+4y^2-4x-2y+24, \\,\\,\\, 0\\le x \\le 4, \\,\\,\\, 0\\le y \\le 2$."
   ]
  },
  {
   "cell_type": "markdown",
   "id": "3dc752d4-774e-406d-a151-adc734f34e07",
   "metadata": {},
   "source": [
    "### Initial Population\n",
    "The population is a set of randomly chosen pairs of possible $(x,y)$ values within the given domain. \n",
    "- This population will be updated throughout the genetic algorithm process."
   ]
  },
  {
   "cell_type": "markdown",
   "id": "8853cec4-36ff-4d88-aa49-c4a86a76fa1b",
   "metadata": {},
   "source": [
    "**Coding**\n",
    "The following code generates an initial population of size $N=100$ containing 100 pairs of $(x,y)$ values. \n",
    "In each pair, $x$ is randomly selected between 0 and 4, and $y$ is randomly selected between 0 and 2."
   ]
  },
  {
   "cell_type": "code",
   "execution_count": 7,
   "id": "f188236d-49be-4ac0-929d-b9fdd1854cd0",
   "metadata": {},
   "outputs": [],
   "source": [
    "import numpy as np"
   ]
  },
  {
   "cell_type": "code",
   "execution_count": 8,
   "id": "4b5b5e54-a613-4ab8-bb6e-65976843ff76",
   "metadata": {},
   "outputs": [],
   "source": [
    "population_size = 100"
   ]
  },
  {
   "cell_type": "code",
   "execution_count": 9,
   "id": "e2bd990a-38b8-4934-b078-23b1737d0af4",
   "metadata": {},
   "outputs": [],
   "source": [
    "def population(pop_size = population_size):\n",
    "    init_pop = []\n",
    "    for i in range(pop_size):\n",
    "        init_pop.append((np.random.uniform(0,4), np.random.uniform(0,2)))\n",
    "    return init_pop"
   ]
  },
  {
   "cell_type": "code",
   "execution_count": 10,
   "id": "c9bc0cee-5105-481a-9cb0-a3e3eccaafb0",
   "metadata": {},
   "outputs": [
    {
     "data": {
      "text/plain": [
       "[(2.195254015709299, 1.430378732744839),\n",
       " (2.4110535042865755, 1.0897663659937937),\n",
       " (1.6946191973556188, 1.2917882261333122),\n",
       " (1.75034884505077, 1.7835460015641595),\n",
       " (3.854651042004117, 0.7668830376515554)]"
      ]
     },
     "execution_count": 10,
     "metadata": {},
     "output_type": "execute_result"
    }
   ],
   "source": [
    "np.random.seed(0)\n",
    "initial_population = population(population_size)\n",
    "initial_population[:5]"
   ]
  },
  {
   "cell_type": "markdown",
   "id": "1a07bf19-f504-4e1e-ac2f-2053b7cfcd54",
   "metadata": {},
   "source": [
    "### Fitness Function\n",
    "The fitness function is the function that we aim to maximize.\n",
    "- In this question, the function $f(x,y)$ is the fitness function."
   ]
  },
  {
   "cell_type": "code",
   "execution_count": 12,
   "id": "50239cf6-9806-454d-bde1-cff0f6514d2d",
   "metadata": {},
   "outputs": [],
   "source": [
    "def f(x,y):\n",
    "    return x**2-2*x*y+4*y**2-4*x-2*y+24"
   ]
  },
  {
   "cell_type": "code",
   "execution_count": 13,
   "id": "e52b79b1-614b-45e6-9f91-918dcd03f314",
   "metadata": {},
   "outputs": [
    {
     "data": {
      "text/plain": [
       "[19.081210627429286,\n",
       " 17.484825150038,\n",
       " 19.806370013216757,\n",
       " 22.97572368695568,\n",
       " 18.346269785696855]"
      ]
     },
     "execution_count": 13,
     "metadata": {},
     "output_type": "execute_result"
    }
   ],
   "source": [
    "f_values = [f(x,y) for (x,y) in initial_population]\n",
    "f_values[:5]"
   ]
  },
  {
   "cell_type": "markdown",
   "id": "b75f6883-15e7-48f0-9cf5-c04fdc70fa5b",
   "metadata": {},
   "source": [
    "### Parent Selection\n",
    "Using randomness and fitness function values, parents will be selected from the current population. \n",
    "- Selected parents will then be used to generate new child pairs in the next step.\n",
    "- There are various methods for choosing parents, but the main principle is to select pairs with higher fitness function values with a greater probability.\n",
    "- Pairs with lower fitness values still have a chance to be chosen, but this probability will be smaller."
   ]
  },
  {
   "cell_type": "markdown",
   "id": "f17182e2-44b5-4265-8e20-04c62bf4d8ee",
   "metadata": {},
   "source": [
    "In this setion, we will use the tournament method for parent selection. \n",
    "- In this method, a specified number of $(x, y)$ pairs are selected randomly, and the pair with the highest fitness function value among them will be chosen as a parent."
   ]
  },
  {
   "cell_type": "code",
   "execution_count": 16,
   "id": "963fc21b-ef8a-4675-8aa5-8aee0201baa1",
   "metadata": {},
   "outputs": [],
   "source": [
    "def select_parent(pop_data, f_val, random_size=20):\n",
    "    random_ind =  np.random.randint(0, len(pop_data)-1, random_size) \n",
    "    f_v = [f_val[i] for i in random_ind]\n",
    "    max_f_v_index = np.argmax(f_v)\n",
    "    return pop_data[random_ind[max_f_v_index]]"
   ]
  },
  {
   "cell_type": "code",
   "execution_count": 17,
   "id": "4c97aa98-e01c-401e-b069-19b339954d91",
   "metadata": {},
   "outputs": [
    {
     "data": {
      "text/plain": [
       "[(1.7434597010625072, 1.7838467100313442),\n",
       " (0.25658998539513744, 1.3849442387400397),\n",
       " (0.40090754924920446, 1.838965227489347),\n",
       " (0.40090754924920446, 1.838965227489347),\n",
       " (0.0767727932373341, 0.6031496333490987)]"
      ]
     },
     "execution_count": 17,
     "metadata": {},
     "output_type": "execute_result"
    }
   ],
   "source": [
    "parents = [select_parent(initial_population, f_values, random_size=5) for i in range(population_size)]\n",
    "parents[:5]"
   ]
  },
  {
   "cell_type": "code",
   "execution_count": 18,
   "id": "fdb1e8c6-2a4b-4c41-8a22-8dcfe4a1b960",
   "metadata": {},
   "outputs": [
    {
     "data": {
      "text/plain": [
       "100"
      ]
     },
     "execution_count": 18,
     "metadata": {},
     "output_type": "execute_result"
    }
   ],
   "source": [
    "len(parents)"
   ]
  },
  {
   "cell_type": "markdown",
   "id": "f13fc5d6-71c9-4e75-bd9e-1d62bb80970b",
   "metadata": {},
   "source": [
    "### Crossover\n",
    "In this step, one new child pair will be produced from two parent pairs. \n",
    "- The coordinates of the child will be generated using the mean values of the $x$ and $y$ coordinates of the parent pairs. \n",
    "- To introduce more randomness, we will also include a probability condition that allows one of the parents to be retained as the child."
   ]
  },
  {
   "cell_type": "code",
   "execution_count": 20,
   "id": "fe1bfb8d-515a-4301-82aa-ec0f017c6be5",
   "metadata": {},
   "outputs": [],
   "source": [
    "def crossover(parent1, parent2, prob_crossover=0.1):\n",
    "    prob = np.random.uniform(0,1)\n",
    "    if prob < prob_crossover:\n",
    "        return [parent1, parent2][np.random.randint(0,2)]\n",
    "    else:\n",
    "        return [(parent1[0]+parent2[0])/2, (parent1[1]+parent2[1])/2]"
   ]
  },
  {
   "cell_type": "markdown",
   "id": "1d1c2cf5-cf75-4c0d-b525-818d3d3d36aa",
   "metadata": {},
   "source": [
    "### Mutation\n",
    "Mutation is used to slightly change the child coordinates, like in nature.\n",
    "- We will add a percentage defined by *pct_mutation* to each coordinate, resulting in a small change to the coordinates.\n",
    "- A probability condition will be included to determine whether mutation will be applied."
   ]
  },
  {
   "cell_type": "code",
   "execution_count": 22,
   "id": "bcb8ce8f-7b16-476b-abe3-e9bd4f8c5818",
   "metadata": {},
   "outputs": [],
   "source": [
    "def mutuation(child, prob_mutuation=0.3, pct_mutuation=0.1):\n",
    "    prob = np.random.uniform(0,1)\n",
    "    c=np.random.choice([-1,1])\n",
    "    if prob < prob_mutuation:\n",
    "        return [min(child[0]*(1+c*pct_mutuation),4), min(child[1]*(1+c*pct_mutuation),2)] \n",
    "    else:\n",
    "        return child"
   ]
  },
  {
   "cell_type": "markdown",
   "id": "4af42bda-3b17-43d7-8cf1-7c52abc965b2",
   "metadata": {},
   "source": [
    "### Next Generation\n",
    "The next (second) generation will be created from the initial population by performing crossover among consecutive pairs of parents.\n",
    "- Mutation will also be applied after producing the child pairs."
   ]
  },
  {
   "cell_type": "code",
   "execution_count": 24,
   "id": "9f46a059-06bf-49bb-9453-7fa4245ad8a0",
   "metadata": {},
   "outputs": [],
   "source": [
    "def next_generation(parent_list):\n",
    "    children_list = []\n",
    "    for i in range(len(parent_list)):\n",
    "        if i != len(parent_list)-1:\n",
    "            child = crossover(parent_list[i], parent_list[i+1], prob_crossover=0.1)\n",
    "        else:\n",
    "            child = crossover(parent_list[i], parent_list[0], prob_crossover=0.1)\n",
    "\n",
    "        children_list.append(mutuation(child))\n",
    "    return children_list"
   ]
  },
  {
   "cell_type": "code",
   "execution_count": 25,
   "id": "71fa6aad-22f7-4afc-9fc5-2d8b39297e30",
   "metadata": {},
   "outputs": [
    {
     "data": {
      "text/plain": [
       "[[1.0000248432288223, 1.5843954743856918],\n",
       " [0.36081679432428404, 1.6550687047404125],\n",
       " [0.44099830417412494, 2],\n",
       " [0.23884017124326928, 1.221057430419223],\n",
       " [0.07094087234938665, 1.0207751960002387]]"
      ]
     },
     "execution_count": 25,
     "metadata": {},
     "output_type": "execute_result"
    }
   ],
   "source": [
    "next_generation(parents)[:5]"
   ]
  },
  {
   "cell_type": "markdown",
   "id": "ccd85ae6-0e9c-45ca-a7c9-70fa953061bf",
   "metadata": {},
   "source": [
    "### Iteration\n",
    "In this part, we will generate generations iteratively to enhance them, with the goal of finding the $(x, y)$ pair that has the highest fitness function value."
   ]
  },
  {
   "cell_type": "markdown",
   "id": "9eab5857-79ce-43a1-9a7b-289aa0dfaf25",
   "metadata": {},
   "source": [
    "We will follow the steps outlined above:\n",
    "\n",
    "1. **Initialize Population**: Generate an initial population of \\((x, y)\\) pairs within the specified domain.\n",
    "2. **Parent Selection**: Select parent pairs using the tournament method based on fitness values.\n",
    "3. **Crossover**: Generate child pairs from the parents by averaging their coordinates, with a probability condition to retain one parent as a child.\n",
    "4. **Mutation**: Slightly alter child coordinates by a set percentage, with a probability condition for mutation.\n",
    "5. **Iteration**: Repeat these steps iteratively to produce new generations, improving toward the \\((x, y)\\) pair with the highest fitness function value. \n",
    "\n",
    "Each iteration will bring the population closer to an optimal solution based on the fitness function."
   ]
  },
  {
   "cell_type": "code",
   "execution_count": 28,
   "id": "db137f6a-1370-4596-b7c1-6c9958e5818e",
   "metadata": {
    "scrolled": true
   },
   "outputs": [
    {
     "name": "stdout",
     "output_type": "stream",
     "text": [
      "Iteration: 0   --- x:1.28, y:1.89, f(x,y): 34.56\n",
      "Iteration: 5   --- x:1.35, y:1.59, f(x,y): 23.02\n",
      "Iteration: 10  --- x:1.81, y:1.98, f(x,y): 24.54\n",
      "Iteration: 15  --- x:1.86, y:2.00, f(x,y): 24.54\n",
      "Iteration: 20  --- x:1.91, y:2.00, f(x,y): 24.37\n",
      "Iteration: 25  --- x:1.89, y:1.99, f(x,y): 24.35\n",
      "Iteration: 30  --- x:1.91, y:1.99, f(x,y): 24.27\n",
      "Iteration: 35  --- x:1.99, y:2.00, f(x,y): 24.05\n",
      "Iteration: 40  --- x:2.00, y:2.00, f(x,y): 24.00\n",
      "Iteration: 45  --- x:2.03, y:2.00, f(x,y): 23.88\n",
      "Iteration: 50  --- x:2.03, y:1.99, f(x,y): 23.78\n",
      "Iteration: 55  --- x:2.04, y:1.99, f(x,y): 23.76\n",
      "Iteration: 60  --- x:2.14, y:2.00, f(x,y): 23.39\n",
      "Iteration: 65  --- x:2.19, y:1.99, f(x,y): 23.17\n",
      "Iteration: 70  --- x:2.19, y:1.99, f(x,y): 23.17\n",
      "Iteration: 75  --- x:2.22, y:1.99, f(x,y): 23.12\n",
      "Iteration: 80  --- x:2.21, y:1.98, f(x,y): 23.04\n",
      "Iteration: 85  --- x:2.26, y:1.99, f(x,y): 22.97\n",
      "Iteration: 90  --- x:2.36, y:2.00, f(x,y): 22.68\n",
      "Iteration: 95  --- x:2.46, y:2.00, f(x,y): 22.37\n",
      "Iteration: 100 --- x:2.50, y:2.00, f(x,y): 22.23\n"
     ]
    }
   ],
   "source": [
    "population_size = 1000\n",
    "\n",
    "initial_population = population(population_size)\n",
    "f_values = [f(x,y) for (x,y) in initial_population]\n",
    "parents = [select_parent(initial_population, f_values, random_size=5) for i in range(population_size)]\n",
    "\n",
    "max_ind = np.argmax(f_values)\n",
    "print(f'Iteration: {0:<3} --- x:{parents[max_ind][0]:.2f}, y:{parents[max_ind][1]:.2f}, f(x,y): {f_values[max_ind]:.2f}')\n",
    "\n",
    "for i in range(1,101):\n",
    "    \n",
    "    parents = [select_parent(parents, f_values, random_size=100) for i in range(population_size)]\n",
    "    parents = next_generation(parents)\n",
    "\n",
    "    if i%5 == 0:\n",
    "        f_values = [f(x,y) for (x,y) in parents]\n",
    "        max_ind = np.argmax(f_values)\n",
    "        print(f'Iteration: {i:<3} --- x:{parents[max_ind][0]:.2f}, y:{parents[max_ind][1]:.2f}, f(x,y): {f_values[max_ind]:.2f}')"
   ]
  },
  {
   "cell_type": "markdown",
   "id": "6099fa33-f831-431c-bc0b-38b2fd066dac",
   "metadata": {},
   "source": [
    "## geneticalgorithm Library\n",
    "The geneticalgorithm library is a useful tool for finding the minimum value of a function. \n",
    "- You can install it in a Jupyter Notebook using the following command: \n",
    "```python\n",
    "!pip install geneticalgorithm\n",
    "```\n",
    "To find the maximum value of a function, simply change the function to its negative, as maximizing $f(x)$ is equivalent to minimizing $f(x)$."
   ]
  },
  {
   "cell_type": "code",
   "execution_count": 30,
   "id": "36feef38-1109-470a-84af-1c55481ab8eb",
   "metadata": {},
   "outputs": [
    {
     "name": "stdout",
     "output_type": "stream",
     "text": [
      " The best solution found:\n",
      " [1.09835801e-03 1.99786809e+00]\n",
      "\n",
      " Objective function:\n",
      " -35.96139052517142\n"
     ]
    },
    {
     "data": {
      "image/png": "[encoded data removed]",
      "text/plain": [
       "<Figure size 640x480 with 1 Axes>"
      ]
     },
     "metadata": {},
     "output_type": "display_data"
    }
   ],
   "source": [
    "from geneticalgorithm import geneticalgorithm as ga\n",
    "\n",
    "def f(X):\n",
    "    x, y = X\n",
    "    return -(x**2-2*x*y+4*y**2-4*x-2*y+24)\n",
    "\n",
    "model = ga(function=f, dimension=2, variable_type='real', variable_boundaries=np.array([[0,4], [0,2]]), progress_bar=False)\n",
    "\n",
    "model.run()"
   ]
  },
  {
   "cell_type": "markdown",
   "id": "1c4bbbc5-f0b7-469d-a19d-be6a9597f829",
   "metadata": {},
   "source": [
    "The `output_dict` attribute provides the results of the optimization problem in a dictionary format.\n",
    "- The value associated with the `\"function\"` key represents the minimum value of the negative of the function. Thus, the negative of this value is the maximum of the original function.\n",
    "- The value associated with the `\"variable\"` key contains the $x$ and $y$ coordinates of the point where the minimum/maximum value is achieved."
   ]
  },
  {
   "cell_type": "code",
   "execution_count": 32,
   "id": "435e144c-bf86-4fe9-a96e-776990c51494",
   "metadata": {},
   "outputs": [
    {
     "data": {
      "text/plain": [
       "{'variable': array([1.09835801e-03, 1.99786809e+00]),\n",
       " 'function': -35.96139052517142}"
      ]
     },
     "execution_count": 32,
     "metadata": {},
     "output_type": "execute_result"
    }
   ],
   "source": [
    "model.output_dict"
   ]
  },
  {
   "cell_type": "code",
   "execution_count": 33,
   "id": "3e02770c-2892-461e-8121-8419c33c1184",
   "metadata": {},
   "outputs": [
    {
     "name": "stdout",
     "output_type": "stream",
     "text": [
      "Maximum value: 35.96\n"
     ]
    }
   ],
   "source": [
    "print(f'Maximum value: {-model.output_dict[\"function\"]:.2f}')"
   ]
  },
  {
   "cell_type": "code",
   "execution_count": 34,
   "id": "ca209ec3-8c71-4e34-b58c-8c048501e9b9",
   "metadata": {},
   "outputs": [
    {
     "name": "stdout",
     "output_type": "stream",
     "text": [
      "Maximum at x: 0.00,  y: 2.00\n"
     ]
    }
   ],
   "source": [
    "print(f'Maximum at x: {model.output_dict[\"variable\"][0]:.2f},  y: {model.output_dict[\"variable\"][1]:.2f}')"
   ]
  },
  {
   "cell_type": "code",
   "execution_count": null,
   "id": "63970e94-9a28-48d3-926f-d3c40f2235ad",
   "metadata": {},
   "outputs": [],
   "source": []
  }
 ],
 "metadata": {
  "kernelspec": {
   "display_name": "Python 3 (ipykernel)",
   "language": "python",
   "name": "python3"
  },
  "language_info": {
   "codemirror_mode": {
    "name": "ipython",
    "version": 3
   },
   "file_extension": ".py",
   "mimetype": "text/x-python",
   "name": "python",
   "nbconvert_exporter": "python",
   "pygments_lexer": "ipython3",
   "version": "3.11.8"
  }
 },
 "nbformat": 4,
 "nbformat_minor": 5
}
