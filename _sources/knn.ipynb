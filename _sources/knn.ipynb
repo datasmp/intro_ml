{
 "cells": [
  {
   "cell_type": "markdown",
   "id": "efe49fe2-d7ee-47cf-9e44-3025fdf300d2",
   "metadata": {},
   "source": [
    "# kNN\n",
    "![](title_pict/knn2.png)"
   ]
  },
  {
   "cell_type": "markdown",
   "id": "c4b83d07-5049-4656-93ab-f57c6e5f7ce0",
   "metadata": {},
   "source": [
    "k-nearest neighbors (kNN) is one of the simplest machine learning algorithms. The core concept of kNN involves selecting the closest samples (nearest neighbors) and making predictions based on the values of these nearest neighbors.\n",
    "\n",
    "- The number of nearest neighbors is specified by the *n_neighbors* parameter. For example, if *n_neighbors* is set to 5, the prediction for a sample is based on the 5 nearest samples.\n",
    "\n",
    "kNN can be used for both classification and regression tasks. \n",
    "- For classification, the most common class among the 5 nearest samples is selected as the predicted class.\n",
    "- For regression, the predicted value is the mean of the outputs from these 5 nearest samples."
   ]
  },
  {
   "cell_type": "markdown",
   "id": "00f302d3-cc8a-428b-80ae-4053221241bc",
   "metadata": {},
   "source": [
    "## KNeighborsClassifier\n"
   ]
  },
  {
   "cell_type": "markdown",
   "id": "b6d4f3cd-7a98-414c-aaff-38ab46b250e3",
   "metadata": {},
   "source": [
    "The following training set consists of two classes: circles and triangles."
   ]
  },
  {
   "cell_type": "markdown",
   "id": "9eb24b08-6c87-42b2-8821-ccb592e1d1ce",
   "metadata": {},
   "source": [
    "![](pict/knn_training.png)"
   ]
  },
  {
   "cell_type": "markdown",
   "id": "653bb553-4425-4500-916d-4e267fe4cf64",
   "metadata": {},
   "source": [
    "The blue and red rectangles represent two test samples, and their classes (circle or triangle) will be predicted using the kNN algorithm."
   ]
  },
  {
   "cell_type": "markdown",
   "id": "190a6dd4-2c6a-46e4-947a-e242b34374c4",
   "metadata": {},
   "source": [
    "![](pict/knn_test.png)"
   ]
  },
  {
   "cell_type": "markdown",
   "id": "eeac2930-849f-45ed-ab52-09a926b61d91",
   "metadata": {},
   "source": [
    "If the *n_neighbors* parameter is set to 3, the three closest samples from the training set will be identified for each blue and red test sample.\n",
    "\n",
    "- For the test sample represented by the red rectangle, two triangles and one circle are the closest training samples. Therefore, the class of this red test sample is predicted to be a triangle.\n",
    "\n",
    "- For the test sample represented by the blue rectangle, two circles and one triangle are the closest training samples. Therefore, the class of this blue test sample is predicted to be a circle."
   ]
  },
  {
   "cell_type": "markdown",
   "id": "70e182cc-a39f-465a-8d7e-0c49b27afcf3",
   "metadata": {},
   "source": [
    "![](pict/knn3.png)"
   ]
  },
  {
   "cell_type": "markdown",
   "id": "1bb26bbc-bb3d-4fe7-a35f-bd592329adcb",
   "metadata": {},
   "source": [
    "If the *n_neighbors* parameter is set to 5, the five closest samples from the training set will be identified for each blue and red test sample.\n",
    "\n",
    "- For the test sample represented by the red rectangle, four triangles and one circle are the closest training samples. Therefore, the class of this red test sample is predicted to be a triangle.\n",
    "\n",
    "- For the test sample represented by the blue rectangle, two circles and three triangles are the closest training samples. Therefore, the class of this blue test sample is predicted to be a triangle."
   ]
  },
  {
   "cell_type": "markdown",
   "id": "63936d75-b2d2-4608-b2b3-824d92f2cc90",
   "metadata": {},
   "source": [
    "![](pict/knn5.png)"
   ]
  },
  {
   "cell_type": "markdown",
   "id": "3c120c62-4e36-4b36-9b16-45f44e2a1de5",
   "metadata": {},
   "source": [
    "Note that the predicted class for the red test sample remains a triangle in both cases. However, the predicted class of the blue test sample changes from circle to triangle when the *n_neighbors* parameter is adjusted from 3 to 5."
   ]
  },
  {
   "cell_type": "markdown",
   "id": "5812a5a2-c546-48fa-9732-7d353e6c7a13",
   "metadata": {},
   "source": [
    "- You can explore further details in the \n",
    "[ KNeighborsClassifier Official Documentation](https://scikit-learn.org/stable/modules/generated/sklearn.neighbors.KNeighborsClassifier.html)."
   ]
  },
  {
   "cell_type": "markdown",
   "id": "21993842-b6f4-484b-bcf7-ee6032af804a",
   "metadata": {},
   "source": [
    "### Data"
   ]
  },
  {
   "cell_type": "code",
   "execution_count": 1,
   "id": "d99d5035-95bb-4a5a-a9d2-75242fdc4c6c",
   "metadata": {},
   "outputs": [
    {
     "name": "stdout",
     "output_type": "stream",
     "text": [
      "Input Shape: (569, 30)  ------  Output Shape: (569,)\n"
     ]
    }
   ],
   "source": [
    "from sklearn.datasets import load_breast_cancer\n",
    "X, y = load_breast_cancer(return_X_y=True)\n",
    "print(f'Input Shape: {X.shape}  ------  Output Shape: {y.shape}')"
   ]
  },
  {
   "cell_type": "code",
   "execution_count": 2,
   "id": "83161c2f-c5df-4832-90e6-09aee88e12b6",
   "metadata": {},
   "outputs": [
    {
     "name": "stdout",
     "output_type": "stream",
     "text": [
      "Training Input Shape: (426, 30)  ------  Training Output Shape: (426,)\n",
      "Test     Input Shape: (143, 30)  ------  Test Output Shape     : (426,)\n"
     ]
    }
   ],
   "source": [
    "from sklearn.model_selection import train_test_split\n",
    "X_train, X_test, y_train, y_test = train_test_split(X, y, random_state=0)\n",
    "print(f'Training Input Shape: {X_train.shape}  ------  Training Output Shape: {y_train.shape}')\n",
    "print(f'Test     Input Shape: {X_test.shape}  ------  Test Output Shape     : {y_train.shape}')"
   ]
  },
  {
   "cell_type": "markdown",
   "id": "c399af5c-ccf8-4401-bad5-27746b3ce837",
   "metadata": {},
   "source": [
    "### Coding"
   ]
  },
  {
   "cell_type": "markdown",
   "id": "35d8ecfb-90a4-4ea8-8a93-f0cbf7660635",
   "metadata": {},
   "source": [
    "- *KNeighborsClassifier* class is imported from the *neighbors* module of *sklearn*."
   ]
  },
  {
   "cell_type": "code",
   "execution_count": 3,
   "id": "3c8742b5-8f00-472a-93b9-16674c16816e",
   "metadata": {},
   "outputs": [],
   "source": [
    "from sklearn.neighbors import KNeighborsClassifier"
   ]
  },
  {
   "cell_type": "markdown",
   "id": "fb4535b1-9fa8-4dc2-9928-5c63091294ff",
   "metadata": {
    "jp-MarkdownHeadingCollapsed": true
   },
   "source": [
    "- You can also use the help() function to access the official documentation about kNN Classifier.\n",
    "```python\n",
    "help(KNeighborsClassifier)\n",
    "```"
   ]
  },
  {
   "cell_type": "markdown",
   "id": "d5070159-4955-4776-85f5-ddc85a2bc461",
   "metadata": {},
   "source": [
    "- The following *knn* object is initialized from the *KNeighborsClassifier* class with the *n_neighbors* parameter set to 3."
   ]
  },
  {
   "cell_type": "code",
   "execution_count": 4,
   "id": "dce4ddb7-be44-4268-b3fa-0aaa83318397",
   "metadata": {},
   "outputs": [],
   "source": [
    "knn = KNeighborsClassifier(n_neighbors=3)"
   ]
  },
  {
   "cell_type": "markdown",
   "id": "23238977-bf05-42fe-a766-d15c5a193fbf",
   "metadata": {},
   "source": [
    "- The following code constructs a KNN model using the training dataset."
   ]
  },
  {
   "cell_type": "code",
   "execution_count": 5,
   "id": "ec3ad0ce-f58c-4141-bd9a-2b1122eb3f17",
   "metadata": {},
   "outputs": [
    {
     "data": {
      "text/html": [
       "<style>#sk-container-id-1 {color: black;background-color: white;}#sk-container-id-1 pre{padding: 0;}#sk-container-id-1 div.sk-toggleable {background-color: white;}#sk-container-id-1 label.sk-toggleable__label {cursor: pointer;display: block;width: 100%;margin-bottom: 0;padding: 0.3em;box-sizing: border-box;text-align: center;}#sk-container-id-1 label.sk-toggleable__label-arrow:before {content: \"▸\";float: left;margin-right: 0.25em;color: #696969;}#sk-container-id-1 label.sk-toggleable__label-arrow:hover:before {color: black;}#sk-container-id-1 div.sk-estimator:hover label.sk-toggleable__label-arrow:before {color: black;}#sk-container-id-1 div.sk-toggleable__content {max-height: 0;max-width: 0;overflow: hidden;text-align: left;background-color: #f0f8ff;}#sk-container-id-1 div.sk-toggleable__content pre {margin: 0.2em;color: black;border-radius: 0.25em;background-color: #f0f8ff;}#sk-container-id-1 input.sk-toggleable__control:checked~div.sk-toggleable__content {max-height: 200px;max-width: 100%;overflow: auto;}#sk-container-id-1 input.sk-toggleable__control:checked~label.sk-toggleable__label-arrow:before {content: \"▾\";}#sk-container-id-1 div.sk-estimator input.sk-toggleable__control:checked~label.sk-toggleable__label {background-color: #d4ebff;}#sk-container-id-1 div.sk-label input.sk-toggleable__control:checked~label.sk-toggleable__label {background-color: #d4ebff;}#sk-container-id-1 input.sk-hidden--visually {border: 0;clip: rect(1px 1px 1px 1px);clip: rect(1px, 1px, 1px, 1px);height: 1px;margin: -1px;overflow: hidden;padding: 0;position: absolute;width: 1px;}#sk-container-id-1 div.sk-estimator {font-family: monospace;background-color: #f0f8ff;border: 1px dotted black;border-radius: 0.25em;box-sizing: border-box;margin-bottom: 0.5em;}#sk-container-id-1 div.sk-estimator:hover {background-color: #d4ebff;}#sk-container-id-1 div.sk-parallel-item::after {content: \"\";width: 100%;border-bottom: 1px solid gray;flex-grow: 1;}#sk-container-id-1 div.sk-label:hover label.sk-toggleable__label {background-color: #d4ebff;}#sk-container-id-1 div.sk-serial::before {content: \"\";position: absolute;border-left: 1px solid gray;box-sizing: border-box;top: 0;bottom: 0;left: 50%;z-index: 0;}#sk-container-id-1 div.sk-serial {display: flex;flex-direction: column;align-items: center;background-color: white;padding-right: 0.2em;padding-left: 0.2em;position: relative;}#sk-container-id-1 div.sk-item {position: relative;z-index: 1;}#sk-container-id-1 div.sk-parallel {display: flex;align-items: stretch;justify-content: center;background-color: white;position: relative;}#sk-container-id-1 div.sk-item::before, #sk-container-id-1 div.sk-parallel-item::before {content: \"\";position: absolute;border-left: 1px solid gray;box-sizing: border-box;top: 0;bottom: 0;left: 50%;z-index: -1;}#sk-container-id-1 div.sk-parallel-item {display: flex;flex-direction: column;z-index: 1;position: relative;background-color: white;}#sk-container-id-1 div.sk-parallel-item:first-child::after {align-self: flex-end;width: 50%;}#sk-container-id-1 div.sk-parallel-item:last-child::after {align-self: flex-start;width: 50%;}#sk-container-id-1 div.sk-parallel-item:only-child::after {width: 0;}#sk-container-id-1 div.sk-dashed-wrapped {border: 1px dashed gray;margin: 0 0.4em 0.5em 0.4em;box-sizing: border-box;padding-bottom: 0.4em;background-color: white;}#sk-container-id-1 div.sk-label label {font-family: monospace;font-weight: bold;display: inline-block;line-height: 1.2em;}#sk-container-id-1 div.sk-label-container {text-align: center;}#sk-container-id-1 div.sk-container {/* jupyter's `normalize.less` sets `[hidden] { display: none; }` but bootstrap.min.css set `[hidden] { display: none !important; }` so we also need the `!important` here to be able to override the default hidden behavior on the sphinx rendered scikit-learn.org. See: https://github.com/scikit-learn/scikit-learn/issues/21755 */display: inline-block !important;position: relative;}#sk-container-id-1 div.sk-text-repr-fallback {display: none;}</style><div id=\"sk-container-id-1\" class=\"sk-top-container\"><div class=\"sk-text-repr-fallback\"><pre>KNeighborsClassifier(n_neighbors=3)</pre><b>In a Jupyter environment, please rerun this cell to show the HTML representation or trust the notebook. <br />On GitHub, the HTML representation is unable to render, please try loading this page with nbviewer.org.</b></div><div class=\"sk-container\" hidden><div class=\"sk-item\"><div class=\"sk-estimator sk-toggleable\"><input class=\"sk-toggleable__control sk-hidden--visually\" id=\"sk-estimator-id-1\" type=\"checkbox\" checked><label for=\"sk-estimator-id-1\" class=\"sk-toggleable__label sk-toggleable__label-arrow\">KNeighborsClassifier</label><div class=\"sk-toggleable__content\"><pre>KNeighborsClassifier(n_neighbors=3)</pre></div></div></div></div></div>"
      ],
      "text/plain": [
       "KNeighborsClassifier(n_neighbors=3)"
      ]
     },
     "execution_count": 5,
     "metadata": {},
     "output_type": "execute_result"
    }
   ],
   "source": [
    "knn.fit(X_train, y_train)"
   ]
  },
  {
   "cell_type": "markdown",
   "id": "a8095226-b1f3-4cc0-bad0-2cefeb253d41",
   "metadata": {},
   "source": [
    "- The *predict()* method is used to predict the output for the provided input data. The following code performs predictions for the first five samples in the training dataset."
   ]
  },
  {
   "cell_type": "code",
   "execution_count": 6,
   "id": "cc80852e-d703-4ef4-a55a-068cbb953d7b",
   "metadata": {},
   "outputs": [
    {
     "data": {
      "text/plain": [
       "array([1, 1, 0, 1, 0])"
      ]
     },
     "execution_count": 6,
     "metadata": {},
     "output_type": "execute_result"
    }
   ],
   "source": [
    "knn.predict(X_train[:5])"
   ]
  },
  {
   "cell_type": "markdown",
   "id": "846bf627-e620-4feb-8449-7eea64b0933a",
   "metadata": {},
   "source": [
    "- The following code performs predictions for the first five samples in the training dataset."
   ]
  },
  {
   "cell_type": "code",
   "execution_count": 7,
   "id": "de87308d-a586-4407-9ddd-1eda90f68d8d",
   "metadata": {},
   "outputs": [
    {
     "data": {
      "text/plain": [
       "array([0, 1, 1, 0, 1])"
      ]
     },
     "execution_count": 7,
     "metadata": {},
     "output_type": "execute_result"
    }
   ],
   "source": [
    "knn.predict(X_test[:5])"
   ]
  },
  {
   "cell_type": "markdown",
   "id": "83533cf4-ec13-4926-8d5e-8b4a0cf63b43",
   "metadata": {},
   "source": [
    "- The *score()* method measures a model's performance on the given input-output pairs by calculating the ratio of correctly classified samples. The following code returns the performance of the trained kNN model on the training dataset."
   ]
  },
  {
   "cell_type": "code",
   "execution_count": 8,
   "id": "3bc4de0f-0aa5-41e5-a0bf-8a3937c2402e",
   "metadata": {},
   "outputs": [
    {
     "data": {
      "text/plain": [
       "0.9577464788732394"
      ]
     },
     "execution_count": 8,
     "metadata": {},
     "output_type": "execute_result"
    }
   ],
   "source": [
    "knn.score(X_train, y_train)"
   ]
  },
  {
   "cell_type": "markdown",
   "id": "2a38457b-1cb9-467e-b3be-1891f5aa74b1",
   "metadata": {},
   "source": [
    "- Alternatively, this can be computed by following these steps:\n",
    "    - Predict the values for the entire training set.\n",
    "    - Compare the predicted values with the actual values.\n",
    "    - Count the number of correct predictions (True values).\n",
    "    - Determine the total number of samples.\n",
    "    - Calculate the accuracy by dividing the number of correctly classified samples by the total number of samples."
   ]
  },
  {
   "cell_type": "code",
   "execution_count": 9,
   "id": "c6b1afb0-f671-4488-889d-b581438753c6",
   "metadata": {},
   "outputs": [
    {
     "data": {
      "text/plain": [
       "array([1, 1, 0, 1, 0, 1, 1, 1, 1, 1, 1, 1, 0, 1, 0, 1, 0, 0, 1, 1, 0, 1,\n",
       "       0, 0, 0, 1, 1, 1, 1, 1, 1, 0, 1, 1, 1, 1, 0, 0, 1, 1, 0, 1, 1, 1,\n",
       "       1, 0, 1, 1, 0, 0, 1, 1, 0, 0, 1, 1, 1, 1, 1, 0, 0, 0, 1, 1, 1, 0,\n",
       "       1, 1, 1, 1, 1, 0, 1, 0, 1, 0, 1, 0, 1, 0, 1, 1, 1, 1, 0, 1, 0, 0,\n",
       "       1, 1, 0, 0, 1, 1, 0, 1, 0, 0, 0, 1, 0, 1, 0, 1, 0, 0, 0, 0, 1, 1,\n",
       "       1, 0, 1, 0, 1, 0, 1, 1, 0, 1, 1, 1, 1, 1, 1, 1, 1, 1, 1, 1, 1, 1,\n",
       "       0, 1, 1, 1, 0, 1, 1, 1, 1, 1, 1, 0, 1, 0, 1, 1, 1, 1, 0, 0, 1, 0,\n",
       "       0, 1, 0, 1, 1, 1, 1, 0, 1, 1, 1, 1, 0, 0, 0, 1, 1, 1, 1, 0, 0, 1,\n",
       "       1, 1, 1, 1, 1, 1, 0, 1, 1, 0, 1, 0, 1, 1, 1, 1, 0, 0, 1, 0, 1, 0,\n",
       "       1, 0, 0, 1, 1, 1, 1, 1, 0, 1, 1, 0, 1, 1, 0, 0, 1, 1, 1, 0, 1, 1,\n",
       "       1, 0, 1, 0, 1, 0, 1, 0, 1, 0, 0, 0, 0, 1, 1, 1, 1, 0, 0, 1, 1, 1,\n",
       "       1, 1, 0, 1, 1, 0, 1, 1, 0, 0, 0, 0, 1, 1, 0, 1, 1, 1, 0, 0, 1, 1,\n",
       "       1, 1, 1, 0, 0, 0, 1, 0, 0, 1, 1, 1, 1, 1, 1, 0, 1, 1, 1, 0, 1, 1,\n",
       "       1, 0, 1, 0, 1, 0, 0, 1, 1, 1, 1, 1, 0, 0, 0, 1, 1, 0, 0, 1, 1, 0,\n",
       "       1, 0, 0, 1, 0, 1, 1, 1, 1, 1, 1, 1, 0, 0, 1, 1, 1, 0, 1, 1, 1, 1,\n",
       "       0, 1, 0, 0, 0, 1, 0, 1, 0, 1, 0, 0, 1, 1, 1, 1, 1, 1, 1, 1, 0, 0,\n",
       "       0, 0, 0, 1, 1, 1, 1, 1, 1, 1, 0, 1, 0, 1, 1, 1, 1, 1, 0, 0, 0, 1,\n",
       "       0, 1, 1, 1, 0, 1, 0, 1, 0, 0, 0, 1, 0, 1, 0, 1, 1, 0, 1, 1, 0, 1,\n",
       "       1, 1, 1, 0, 1, 1, 0, 1, 1, 1, 0, 0, 1, 1, 1, 0, 1, 1, 0, 1, 1, 1,\n",
       "       1, 1, 0, 0, 0, 1, 1, 1])"
      ]
     },
     "execution_count": 9,
     "metadata": {},
     "output_type": "execute_result"
    }
   ],
   "source": [
    "knn.predict(X_train)"
   ]
  },
  {
   "cell_type": "code",
   "execution_count": 10,
   "id": "85c80a31-03a9-4a2b-b03f-15fb3f78df44",
   "metadata": {},
   "outputs": [
    {
     "data": {
      "text/plain": [
       "array([ True,  True,  True,  True,  True,  True,  True,  True,  True,\n",
       "        True,  True,  True,  True,  True,  True,  True,  True,  True,\n",
       "        True,  True,  True,  True,  True,  True,  True,  True,  True,\n",
       "        True,  True,  True,  True,  True,  True,  True,  True,  True,\n",
       "        True,  True,  True,  True,  True,  True,  True,  True,  True,\n",
       "        True,  True,  True,  True,  True,  True,  True,  True,  True,\n",
       "        True,  True, False,  True,  True,  True,  True,  True,  True,\n",
       "        True,  True,  True,  True,  True,  True,  True,  True,  True,\n",
       "        True,  True,  True,  True,  True,  True,  True,  True,  True,\n",
       "        True,  True,  True,  True,  True,  True, False,  True,  True,\n",
       "        True, False,  True,  True,  True,  True, False,  True,  True,\n",
       "        True,  True,  True,  True,  True,  True,  True,  True,  True,\n",
       "        True, False,  True,  True,  True,  True,  True,  True,  True,\n",
       "        True,  True,  True,  True,  True,  True,  True,  True,  True,\n",
       "        True,  True,  True,  True,  True,  True,  True,  True,  True,\n",
       "        True,  True,  True,  True,  True,  True,  True,  True,  True,\n",
       "        True,  True,  True,  True, False,  True,  True,  True,  True,\n",
       "        True,  True,  True, False, False,  True,  True,  True,  True,\n",
       "        True,  True,  True,  True, False,  True,  True,  True,  True,\n",
       "        True,  True,  True,  True,  True,  True,  True,  True, False,\n",
       "        True,  True,  True,  True,  True,  True,  True,  True,  True,\n",
       "        True,  True,  True,  True,  True, False,  True,  True,  True,\n",
       "        True,  True,  True,  True,  True,  True,  True,  True,  True,\n",
       "        True,  True,  True,  True,  True,  True,  True,  True,  True,\n",
       "        True,  True, False,  True,  True,  True,  True, False,  True,\n",
       "        True,  True,  True,  True,  True,  True,  True,  True,  True,\n",
       "        True,  True,  True,  True,  True,  True,  True,  True,  True,\n",
       "        True,  True,  True,  True,  True,  True,  True,  True,  True,\n",
       "        True,  True,  True,  True,  True,  True,  True,  True,  True,\n",
       "        True,  True,  True,  True,  True,  True,  True,  True,  True,\n",
       "        True,  True,  True,  True,  True,  True,  True,  True,  True,\n",
       "        True,  True,  True,  True, False,  True,  True, False,  True,\n",
       "        True,  True,  True,  True,  True,  True,  True,  True,  True,\n",
       "        True,  True,  True,  True,  True,  True,  True,  True,  True,\n",
       "        True,  True,  True,  True,  True,  True,  True,  True,  True,\n",
       "        True,  True,  True,  True,  True,  True,  True,  True,  True,\n",
       "        True,  True,  True,  True,  True,  True,  True,  True,  True,\n",
       "        True,  True,  True,  True,  True,  True,  True,  True,  True,\n",
       "        True,  True,  True,  True,  True,  True,  True,  True,  True,\n",
       "        True,  True,  True,  True,  True,  True,  True,  True,  True,\n",
       "        True,  True,  True,  True,  True,  True,  True,  True,  True,\n",
       "        True,  True,  True,  True,  True,  True,  True,  True, False,\n",
       "        True, False,  True,  True,  True,  True,  True,  True,  True,\n",
       "        True,  True,  True,  True,  True, False,  True,  True,  True,\n",
       "        True,  True,  True,  True,  True,  True,  True,  True,  True,\n",
       "        True,  True,  True,  True,  True,  True,  True,  True,  True,\n",
       "        True,  True,  True,  True,  True,  True,  True,  True,  True,\n",
       "        True,  True,  True])"
      ]
     },
     "execution_count": 10,
     "metadata": {},
     "output_type": "execute_result"
    }
   ],
   "source": [
    "knn.predict(X_train) == y_train"
   ]
  },
  {
   "cell_type": "code",
   "execution_count": 11,
   "id": "f4277c0b-5b4c-43d5-8c33-fbc33a1fc477",
   "metadata": {},
   "outputs": [
    {
     "data": {
      "text/plain": [
       "408"
      ]
     },
     "execution_count": 11,
     "metadata": {},
     "output_type": "execute_result"
    }
   ],
   "source": [
    "sum(knn.predict(X_train) == y_train)"
   ]
  },
  {
   "cell_type": "code",
   "execution_count": 12,
   "id": "9e1f9625-d525-49d2-9214-947fc26ee87d",
   "metadata": {},
   "outputs": [
    {
     "data": {
      "text/plain": [
       "426"
      ]
     },
     "execution_count": 12,
     "metadata": {},
     "output_type": "execute_result"
    }
   ],
   "source": [
    "len(X_train)"
   ]
  },
  {
   "cell_type": "code",
   "execution_count": 13,
   "id": "0d2134ea-0ace-4e18-bcca-fe709fc691f0",
   "metadata": {},
   "outputs": [
    {
     "data": {
      "text/plain": [
       "0.9577464788732394"
      ]
     },
     "execution_count": 13,
     "metadata": {},
     "output_type": "execute_result"
    }
   ],
   "source": [
    "sum(knn.predict(X_train) == y_train)/len(X_train)"
   ]
  },
  {
   "cell_type": "markdown",
   "id": "47ebff43-7f69-415d-a5c6-91710c320a9c",
   "metadata": {},
   "source": [
    "- The following code returns the performance of the trained kNN model on the test dataset."
   ]
  },
  {
   "cell_type": "code",
   "execution_count": 14,
   "id": "bc4b065e-47bd-4575-83b9-19a7eddad489",
   "metadata": {},
   "outputs": [
    {
     "data": {
      "text/plain": [
       "0.9230769230769231"
      ]
     },
     "execution_count": 14,
     "metadata": {},
     "output_type": "execute_result"
    }
   ],
   "source": [
    "knn.score(X_test, y_test)"
   ]
  },
  {
   "cell_type": "markdown",
   "id": "d33a6c54-26b1-424e-9c5d-8960d7414d7f",
   "metadata": {},
   "source": [
    "- In the following code, training and test scores are computed and stored for n_neighbors values ranging from 1 to 5."
   ]
  },
  {
   "cell_type": "code",
   "execution_count": 15,
   "id": "271c8203-d823-48a6-a1b0-90e032f1d712",
   "metadata": {},
   "outputs": [],
   "source": [
    "N = 5\n",
    "train_score = []\n",
    "test_score  = []\n",
    "for i in range(1,N+1):\n",
    "  knn = KNeighborsClassifier(n_neighbors=i)\n",
    "  knn.fit(X_train, y_train)\n",
    "  train_score.append(knn.score(X_train,y_train))\n",
    "  test_score.append(knn.score(X_test,y_test))"
   ]
  },
  {
   "cell_type": "code",
   "execution_count": 16,
   "id": "eb0e1645-7850-4323-a5f7-79e6d4e30f8b",
   "metadata": {},
   "outputs": [
    {
     "data": {
      "image/png": "[encoded data removed]",
      "text/plain": [
       "<Figure size 640x480 with 1 Axes>"
      ]
     },
     "metadata": {},
     "output_type": "display_data"
    }
   ],
   "source": [
    "import matplotlib.pyplot as plt\n",
    "plt.plot(range(1,N+1),train_score, label='Training Score')\n",
    "plt.plot(range(1,N+1),test_score, label='Test Score')\n",
    "plt.grid()\n",
    "plt.legend();"
   ]
  },
  {
   "cell_type": "markdown",
   "id": "e669828e-8fe1-419b-a46f-0ad011110197",
   "metadata": {},
   "source": [
    "## KNeighborsRegressor\n",
    "In regression tasks, the output is a continuous variable. \n",
    "- Similar to the classification case, the nearest neighbors are identified.\n",
    "- The predicted output value is the mean of the output values of the nearest neighbors from the training set.\n",
    "\n",
    "![](pict/knn_train_test_reg.png)"
   ]
  },
  {
   "cell_type": "markdown",
   "id": "8c6d522d-069e-4e0d-807c-fafd2d6c0340",
   "metadata": {},
   "source": [
    "- For the test samples represented by red and blue above, the predicted output values are the averages of the outputs of the three nearest neighbors located inside the circles."
   ]
  },
  {
   "cell_type": "markdown",
   "id": "25774efa-84c5-428a-b6e6-d886993d25bb",
   "metadata": {},
   "source": [
    "### Data"
   ]
  },
  {
   "cell_type": "code",
   "execution_count": 17,
   "id": "0d56bf92-ffc2-4d4e-b838-f25c3e9d590a",
   "metadata": {},
   "outputs": [
    {
     "name": "stdout",
     "output_type": "stream",
     "text": [
      "Input Shape: (20640, 8)  ------  Output Shape: (20640,)\n"
     ]
    }
   ],
   "source": [
    "from sklearn.datasets import fetch_california_housing\n",
    "X, y = fetch_california_housing(return_X_y=True)\n",
    "print(f'Input Shape: {X.shape}  ------  Output Shape: {y.shape}')"
   ]
  },
  {
   "cell_type": "code",
   "execution_count": 18,
   "id": "6328c8c5-a9f5-4d77-9bf4-7557727fea91",
   "metadata": {},
   "outputs": [
    {
     "name": "stdout",
     "output_type": "stream",
     "text": [
      "Training Input Shape: (15480, 8)  ------  Training Output Shape: (15480,)\n",
      "Test     Input Shape: (5160, 8)  ------  Test Output Shape     : (15480,)\n"
     ]
    }
   ],
   "source": [
    "from sklearn.model_selection import train_test_split\n",
    "X_train, X_test, y_train, y_test = train_test_split(X, y, random_state=0)\n",
    "print(f'Training Input Shape: {X_train.shape}  ------  Training Output Shape: {y_train.shape}')\n",
    "print(f'Test     Input Shape: {X_test.shape}  ------  Test Output Shape     : {y_train.shape}')"
   ]
  },
  {
   "cell_type": "markdown",
   "id": "c2670c71-0b5d-46b8-a707-2593c4d3bd1d",
   "metadata": {},
   "source": [
    "### Coding"
   ]
  },
  {
   "cell_type": "markdown",
   "id": "203687f3-d815-41df-b631-b905843db990",
   "metadata": {},
   "source": [
    "- *KNeighborsRegressor* class is imported from the *neighbors* module of *sklearn*."
   ]
  },
  {
   "cell_type": "code",
   "execution_count": 19,
   "id": "5db793d8-e54c-4b6f-b388-355de1609c60",
   "metadata": {},
   "outputs": [],
   "source": [
    "from sklearn.neighbors import KNeighborsRegressor"
   ]
  },
  {
   "cell_type": "markdown",
   "id": "30043e3b-8398-4e40-868a-c1837e7f147c",
   "metadata": {
    "jp-MarkdownHeadingCollapsed": true
   },
   "source": [
    "- You can also use the help() function to access the official documentation about kNN Regressor.\n",
    "```python\n",
    "help(KNeighborsRegressor)\n",
    "```"
   ]
  },
  {
   "cell_type": "markdown",
   "id": "01fac1d7-4f77-4808-abec-8d2582f8250b",
   "metadata": {},
   "source": [
    "- The following *knn* object is initialized from the *KNeighborsRegressor* class with the *n_neighbors* parameter set to 3."
   ]
  },
  {
   "cell_type": "code",
   "execution_count": 20,
   "id": "43dd09db-6474-4845-850b-6fbeefcfdca4",
   "metadata": {},
   "outputs": [],
   "source": [
    "knn = KNeighborsRegressor(n_neighbors=3)"
   ]
  },
  {
   "cell_type": "markdown",
   "id": "eb810b52-c6b7-4d88-8ec3-2f98826d8c52",
   "metadata": {},
   "source": [
    "- The following code constructs a KNN model using the training dataset."
   ]
  },
  {
   "cell_type": "code",
   "execution_count": 21,
   "id": "39edcabd-8b9d-4062-a38c-d36cabe367ad",
   "metadata": {},
   "outputs": [
    {
     "data": {
      "text/html": [
       "<style>#sk-container-id-2 {color: black;background-color: white;}#sk-container-id-2 pre{padding: 0;}#sk-container-id-2 div.sk-toggleable {background-color: white;}#sk-container-id-2 label.sk-toggleable__label {cursor: pointer;display: block;width: 100%;margin-bottom: 0;padding: 0.3em;box-sizing: border-box;text-align: center;}#sk-container-id-2 label.sk-toggleable__label-arrow:before {content: \"▸\";float: left;margin-right: 0.25em;color: #696969;}#sk-container-id-2 label.sk-toggleable__label-arrow:hover:before {color: black;}#sk-container-id-2 div.sk-estimator:hover label.sk-toggleable__label-arrow:before {color: black;}#sk-container-id-2 div.sk-toggleable__content {max-height: 0;max-width: 0;overflow: hidden;text-align: left;background-color: #f0f8ff;}#sk-container-id-2 div.sk-toggleable__content pre {margin: 0.2em;color: black;border-radius: 0.25em;background-color: #f0f8ff;}#sk-container-id-2 input.sk-toggleable__control:checked~div.sk-toggleable__content {max-height: 200px;max-width: 100%;overflow: auto;}#sk-container-id-2 input.sk-toggleable__control:checked~label.sk-toggleable__label-arrow:before {content: \"▾\";}#sk-container-id-2 div.sk-estimator input.sk-toggleable__control:checked~label.sk-toggleable__label {background-color: #d4ebff;}#sk-container-id-2 div.sk-label input.sk-toggleable__control:checked~label.sk-toggleable__label {background-color: #d4ebff;}#sk-container-id-2 input.sk-hidden--visually {border: 0;clip: rect(1px 1px 1px 1px);clip: rect(1px, 1px, 1px, 1px);height: 1px;margin: -1px;overflow: hidden;padding: 0;position: absolute;width: 1px;}#sk-container-id-2 div.sk-estimator {font-family: monospace;background-color: #f0f8ff;border: 1px dotted black;border-radius: 0.25em;box-sizing: border-box;margin-bottom: 0.5em;}#sk-container-id-2 div.sk-estimator:hover {background-color: #d4ebff;}#sk-container-id-2 div.sk-parallel-item::after {content: \"\";width: 100%;border-bottom: 1px solid gray;flex-grow: 1;}#sk-container-id-2 div.sk-label:hover label.sk-toggleable__label {background-color: #d4ebff;}#sk-container-id-2 div.sk-serial::before {content: \"\";position: absolute;border-left: 1px solid gray;box-sizing: border-box;top: 0;bottom: 0;left: 50%;z-index: 0;}#sk-container-id-2 div.sk-serial {display: flex;flex-direction: column;align-items: center;background-color: white;padding-right: 0.2em;padding-left: 0.2em;position: relative;}#sk-container-id-2 div.sk-item {position: relative;z-index: 1;}#sk-container-id-2 div.sk-parallel {display: flex;align-items: stretch;justify-content: center;background-color: white;position: relative;}#sk-container-id-2 div.sk-item::before, #sk-container-id-2 div.sk-parallel-item::before {content: \"\";position: absolute;border-left: 1px solid gray;box-sizing: border-box;top: 0;bottom: 0;left: 50%;z-index: -1;}#sk-container-id-2 div.sk-parallel-item {display: flex;flex-direction: column;z-index: 1;position: relative;background-color: white;}#sk-container-id-2 div.sk-parallel-item:first-child::after {align-self: flex-end;width: 50%;}#sk-container-id-2 div.sk-parallel-item:last-child::after {align-self: flex-start;width: 50%;}#sk-container-id-2 div.sk-parallel-item:only-child::after {width: 0;}#sk-container-id-2 div.sk-dashed-wrapped {border: 1px dashed gray;margin: 0 0.4em 0.5em 0.4em;box-sizing: border-box;padding-bottom: 0.4em;background-color: white;}#sk-container-id-2 div.sk-label label {font-family: monospace;font-weight: bold;display: inline-block;line-height: 1.2em;}#sk-container-id-2 div.sk-label-container {text-align: center;}#sk-container-id-2 div.sk-container {/* jupyter's `normalize.less` sets `[hidden] { display: none; }` but bootstrap.min.css set `[hidden] { display: none !important; }` so we also need the `!important` here to be able to override the default hidden behavior on the sphinx rendered scikit-learn.org. See: https://github.com/scikit-learn/scikit-learn/issues/21755 */display: inline-block !important;position: relative;}#sk-container-id-2 div.sk-text-repr-fallback {display: none;}</style><div id=\"sk-container-id-2\" class=\"sk-top-container\"><div class=\"sk-text-repr-fallback\"><pre>KNeighborsRegressor(n_neighbors=3)</pre><b>In a Jupyter environment, please rerun this cell to show the HTML representation or trust the notebook. <br />On GitHub, the HTML representation is unable to render, please try loading this page with nbviewer.org.</b></div><div class=\"sk-container\" hidden><div class=\"sk-item\"><div class=\"sk-estimator sk-toggleable\"><input class=\"sk-toggleable__control sk-hidden--visually\" id=\"sk-estimator-id-2\" type=\"checkbox\" checked><label for=\"sk-estimator-id-2\" class=\"sk-toggleable__label sk-toggleable__label-arrow\">KNeighborsRegressor</label><div class=\"sk-toggleable__content\"><pre>KNeighborsRegressor(n_neighbors=3)</pre></div></div></div></div></div>"
      ],
      "text/plain": [
       "KNeighborsRegressor(n_neighbors=3)"
      ]
     },
     "execution_count": 21,
     "metadata": {},
     "output_type": "execute_result"
    }
   ],
   "source": [
    "knn.fit(X_train, y_train)"
   ]
  },
  {
   "cell_type": "markdown",
   "id": "31a363ce-8d93-4ba7-be0b-00377df96982",
   "metadata": {},
   "source": [
    "- The *predict()* method is used to predict the output for the provided input data. The following code performs predictions for the first five samples in the training dataset."
   ]
  },
  {
   "cell_type": "code",
   "execution_count": 22,
   "id": "35299f87-041c-4fa9-b2e3-761f62a09519",
   "metadata": {},
   "outputs": [
    {
     "data": {
      "text/plain": [
       "array([2.514     , 2.31366667, 1.368     , 3.14600333, 0.954     ])"
      ]
     },
     "execution_count": 22,
     "metadata": {},
     "output_type": "execute_result"
    }
   ],
   "source": [
    "knn.predict(X_train[:5])"
   ]
  },
  {
   "cell_type": "markdown",
   "id": "ea9a55d4-3d7c-406e-8ea4-48fb229490a9",
   "metadata": {},
   "source": [
    "- The following code performs predictions for the first five samples in the training dataset."
   ]
  },
  {
   "cell_type": "code",
   "execution_count": 23,
   "id": "cc283daf-03e6-45c6-aff2-b259c462a3d9",
   "metadata": {},
   "outputs": [
    {
     "data": {
      "text/plain": [
       "array([1.82266667, 2.228     , 3.08833333, 2.405     , 1.89566667])"
      ]
     },
     "execution_count": 23,
     "metadata": {},
     "output_type": "execute_result"
    }
   ],
   "source": [
    "knn.predict(X_test[:5])"
   ]
  },
  {
   "cell_type": "markdown",
   "id": "43e1d287-1efb-4ebb-9b99-80ffdeff1c3e",
   "metadata": {},
   "source": [
    "- The *score()* method measures a model's performance on the given input-output pairs by calculating the [coefficient of determination](https://en.wikipedia.org/wiki/Coefficient_of_determination). The following code returns the performance of the trained kNN model on the training dataset."
   ]
  },
  {
   "cell_type": "code",
   "execution_count": 24,
   "id": "3e6d41c6-f247-4730-8cf1-6952b5263349",
   "metadata": {},
   "outputs": [
    {
     "data": {
      "text/plain": [
       "0.5713267568740368"
      ]
     },
     "execution_count": 24,
     "metadata": {},
     "output_type": "execute_result"
    }
   ],
   "source": [
    "knn.score(X_train, y_train)"
   ]
  },
  {
   "cell_type": "markdown",
   "id": "51eb16d5-2acb-4df7-b622-b9d7cb982fb0",
   "metadata": {},
   "source": [
    "- The following code returns the performance of the trained kNN model on the test dataset."
   ]
  },
  {
   "cell_type": "code",
   "execution_count": 25,
   "id": "ecbd2a90-1b88-4f9e-bd3f-6d9a1a85b875",
   "metadata": {},
   "outputs": [
    {
     "data": {
      "text/plain": [
       "0.11587927803940512"
      ]
     },
     "execution_count": 25,
     "metadata": {},
     "output_type": "execute_result"
    }
   ],
   "source": [
    "knn.score(X_test, y_test)"
   ]
  },
  {
   "cell_type": "markdown",
   "id": "f885e668-df55-42b5-81dc-bc245eae3741",
   "metadata": {},
   "source": [
    "- In the following code, training and test scores are computed and stored for n_neighbors values ranging from 1 to 50."
   ]
  },
  {
   "cell_type": "code",
   "execution_count": 26,
   "id": "d2cadce8-567d-483d-8450-73e2468a01f9",
   "metadata": {},
   "outputs": [],
   "source": [
    "N = 50\n",
    "train_score = []\n",
    "test_score  = []\n",
    "for i in range(1,N+1):\n",
    "  knn = KNeighborsRegressor(n_neighbors=i)\n",
    "  knn.fit(X_train, y_train)\n",
    "  train_score.append(knn.score(X_train,y_train))\n",
    "  test_score.append(knn.score(X_test,y_test))"
   ]
  },
  {
   "cell_type": "code",
   "execution_count": 27,
   "id": "5285cab8-53ae-48f9-abdf-f0337a92526b",
   "metadata": {},
   "outputs": [
    {
     "data": {
      "image/png": "[encoded data removed]",
      "text/plain": [
       "<Figure size 640x480 with 1 Axes>"
      ]
     },
     "metadata": {},
     "output_type": "display_data"
    }
   ],
   "source": [
    "import matplotlib.pyplot as plt\n",
    "plt.plot(range(1,N+1),train_score, label='Training Score')\n",
    "plt.plot(range(1,N+1),test_score, label='Test Score')\n",
    "plt.grid()\n",
    "plt.legend();"
   ]
  },
  {
   "cell_type": "code",
   "execution_count": null,
   "id": "6db0a09e-2bec-4992-a6d5-c1ee1b7685f6",
   "metadata": {},
   "outputs": [],
   "source": []
  },
  {
   "cell_type": "code",
   "execution_count": null,
   "id": "0227e1e8-1fb2-4f6e-a541-419f6385c4a9",
   "metadata": {},
   "outputs": [],
   "source": []
  }
 ],
 "metadata": {
  "kernelspec": {
   "display_name": "Python 3 (ipykernel)",
   "language": "python",
   "name": "python3"
  },
  "language_info": {
   "codemirror_mode": {
    "name": "ipython",
    "version": 3
   },
   "file_extension": ".py",
   "mimetype": "text/x-python",
   "name": "python",
   "nbconvert_exporter": "python",
   "pygments_lexer": "ipython3",
   "version": "3.11.7"
  }
 },
 "nbformat": 4,
 "nbformat_minor": 5
}
